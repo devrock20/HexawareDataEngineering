{
 "cells": [
  {
   "cell_type": "code",
   "execution_count": 1,
   "id": "4bca8be9",
   "metadata": {},
   "outputs": [],
   "source": [
    "import os"
   ]
  },
  {
   "cell_type": "code",
   "execution_count": 2,
   "id": "32fce6b5",
   "metadata": {},
   "outputs": [
    {
     "data": {
      "text/plain": [
       "'/Users/satyadevtummala'"
      ]
     },
     "execution_count": 2,
     "metadata": {},
     "output_type": "execute_result"
    }
   ],
   "source": [
    "os.getcwd()"
   ]
  },
  {
   "cell_type": "code",
   "execution_count": 3,
   "id": "5c4ca18f",
   "metadata": {},
   "outputs": [
    {
     "name": "stdout",
     "output_type": "stream",
     "text": [
      "\u001b[34mApplications\u001b[m\u001b[m/                  \u001b[34mMovies\u001b[m\u001b[m/\r\n",
      "\u001b[34mDesktop\u001b[m\u001b[m/                       \u001b[34mMusic\u001b[m\u001b[m/\r\n",
      "\u001b[34mDocuments\u001b[m\u001b[m/                     \u001b[34mPictures\u001b[m\u001b[m/\r\n",
      "\u001b[34mDownloads\u001b[m\u001b[m/                     \u001b[34mPublic\u001b[m\u001b[m/\r\n",
      "Hexaware Training Day 4.ipynb  \u001b[34m__pycache__\u001b[m\u001b[m/\r\n",
      "Hexaware Traning Day 3.ipynb   my_module.py\r\n",
      "\u001b[34mLibrary\u001b[m\u001b[m/\r\n"
     ]
    }
   ],
   "source": [
    "ls"
   ]
  },
  {
   "cell_type": "code",
   "execution_count": 4,
   "id": "508cab53",
   "metadata": {},
   "outputs": [
    {
     "data": {
      "text/plain": [
       "<_io.TextIOWrapper name='test.txt' mode='x' encoding='UTF-8'>"
      ]
     },
     "execution_count": 4,
     "metadata": {},
     "output_type": "execute_result"
    }
   ],
   "source": [
    "open(r'test.txt','x')"
   ]
  },
  {
   "cell_type": "code",
   "execution_count": 7,
   "id": "751e6859",
   "metadata": {},
   "outputs": [],
   "source": [
    "f = open(r'test.txt','w')\n",
    "f.write('python file handling')\n",
    "f.close()"
   ]
  },
  {
   "cell_type": "code",
   "execution_count": 8,
   "id": "aa0532eb",
   "metadata": {},
   "outputs": [
    {
     "name": "stdout",
     "output_type": "stream",
     "text": [
      "python file handling\n"
     ]
    }
   ],
   "source": [
    "f = open(r'test.txt','r')\n",
    "print(f.read())"
   ]
  },
  {
   "cell_type": "code",
   "execution_count": 10,
   "id": "1a692860",
   "metadata": {},
   "outputs": [],
   "source": [
    "import requests"
   ]
  },
  {
   "cell_type": "code",
   "execution_count": 19,
   "id": "844c9091",
   "metadata": {},
   "outputs": [],
   "source": [
    "response_text = requests.get('https://www.google.com/').text"
   ]
  },
  {
   "cell_type": "code",
   "execution_count": 14,
   "id": "76dc5cb5",
   "metadata": {},
   "outputs": [],
   "source": [
    "f = open(r'response.txt','w')"
   ]
  },
  {
   "cell_type": "code",
   "execution_count": 17,
   "id": "e5945a36",
   "metadata": {},
   "outputs": [
    {
     "data": {
      "text/plain": [
       "14969"
      ]
     },
     "execution_count": 17,
     "metadata": {},
     "output_type": "execute_result"
    }
   ],
   "source": [
    "f.write(response_text)"
   ]
  },
  {
   "cell_type": "code",
   "execution_count": 23,
   "id": "780f5444",
   "metadata": {},
   "outputs": [
    {
     "name": "stdout",
     "output_type": "stream",
     "text": [
      "Something worng with the request\n"
     ]
    }
   ],
   "source": [
    "try:\n",
    "    response_text = requests.get('htps://www.google.com/').text\n",
    "    f = open(r'response.txt','w')\n",
    "    f.write(response_text)\n",
    "except Exception:\n",
    "    print(\"Something worng with the request\")"
   ]
  },
  {
   "cell_type": "code",
   "execution_count": 24,
   "id": "298eea69",
   "metadata": {},
   "outputs": [],
   "source": [
    "import math"
   ]
  },
  {
   "cell_type": "code",
   "execution_count": 25,
   "id": "35b8784b",
   "metadata": {},
   "outputs": [],
   "source": [
    "powers = [math.pow(i,2) for i in range(1,11)]\n",
    "    "
   ]
  },
  {
   "cell_type": "code",
   "execution_count": 26,
   "id": "523c6a60",
   "metadata": {},
   "outputs": [
    {
     "data": {
      "text/plain": [
       "[1.0, 4.0, 9.0, 16.0, 25.0, 36.0, 49.0, 64.0, 81.0, 100.0]"
      ]
     },
     "execution_count": 26,
     "metadata": {},
     "output_type": "execute_result"
    }
   ],
   "source": [
    "powers"
   ]
  },
  {
   "cell_type": "code",
   "execution_count": 36,
   "id": "70531805",
   "metadata": {},
   "outputs": [],
   "source": [
    "def square(n):\n",
    "    for i in range(n):\n",
    "        yield i **2"
   ]
  },
  {
   "cell_type": "code",
   "execution_count": 37,
   "id": "ed32e0b0",
   "metadata": {},
   "outputs": [],
   "source": [
    "out = square(5)"
   ]
  },
  {
   "cell_type": "code",
   "execution_count": 33,
   "id": "74dac23a",
   "metadata": {},
   "outputs": [
    {
     "data": {
      "text/plain": [
       "16"
      ]
     },
     "execution_count": 33,
     "metadata": {},
     "output_type": "execute_result"
    }
   ],
   "source": [
    "next(out)"
   ]
  },
  {
   "cell_type": "code",
   "execution_count": 38,
   "id": "bed1b915",
   "metadata": {},
   "outputs": [
    {
     "name": "stdout",
     "output_type": "stream",
     "text": [
      "0\n",
      "1\n",
      "4\n",
      "9\n",
      "16\n"
     ]
    }
   ],
   "source": [
    "for i in out:\n",
    "    print(i)"
   ]
  },
  {
   "cell_type": "raw",
   "id": "79b6720f",
   "metadata": {},
   "source": [
    "python unit testing"
   ]
  },
  {
   "cell_type": "raw",
   "id": "866987e9",
   "metadata": {},
   "source": [
    "Robot\n",
    "Pytest\n",
    "unitest\n",
    "DocTest\n",
    "Testify"
   ]
  },
  {
   "cell_type": "code",
   "execution_count": 40,
   "id": "607f720e",
   "metadata": {},
   "outputs": [],
   "source": [
    "import pytest"
   ]
  },
  {
   "cell_type": "code",
   "execution_count": 2,
   "id": "cc4bbf56",
   "metadata": {},
   "outputs": [],
   "source": [
    "import os"
   ]
  },
  {
   "cell_type": "code",
   "execution_count": 3,
   "id": "e02371e4",
   "metadata": {},
   "outputs": [
    {
     "data": {
      "text/plain": [
       "'/Users/satyadevtummala/Hexware Training'"
      ]
     },
     "execution_count": 3,
     "metadata": {},
     "output_type": "execute_result"
    }
   ],
   "source": [
    "os.getcwd()"
   ]
  },
  {
   "cell_type": "code",
   "execution_count": 4,
   "id": "6aa9a5f7",
   "metadata": {},
   "outputs": [],
   "source": [
    "os.chdir(r'/Users/satyadevtummala/Hexware Training/testing')"
   ]
  },
  {
   "cell_type": "code",
   "execution_count": 5,
   "id": "7e124532",
   "metadata": {},
   "outputs": [
    {
     "data": {
      "text/plain": [
       "'/Users/satyadevtummala/Hexware Training/testing'"
      ]
     },
     "execution_count": 5,
     "metadata": {},
     "output_type": "execute_result"
    }
   ],
   "source": [
    "os.getcwd()"
   ]
  },
  {
   "cell_type": "code",
   "execution_count": 20,
   "id": "38eb4245",
   "metadata": {},
   "outputs": [
    {
     "name": "stdout",
     "output_type": "stream",
     "text": [
      "Overwriting mathfile.py\n"
     ]
    }
   ],
   "source": [
    "%%writefile mathfile.py\n",
    "\n",
    "def add(a,b):\n",
    "    return a+b\n",
    "def sub(a,b):\n",
    "    return a-b\n",
    "def multiply(a,b):\n",
    "    return a*b"
   ]
  },
  {
   "cell_type": "code",
   "execution_count": 15,
   "id": "ad4ab650",
   "metadata": {},
   "outputs": [
    {
     "name": "stdout",
     "output_type": "stream",
     "text": [
      "Overwriting test_mathfile.py\n"
     ]
    }
   ],
   "source": [
    "%%writefile test_mathfile.py\n",
    "\n",
    "import mathfile\n",
    "\n",
    "def test_add():\n",
    "    output = mathfile.add(2,3)\n",
    "    assert output == 5\n",
    "    \n",
    "def test_sub():\n",
    "    output = mathfile.sub(4,3)\n",
    "    assert output == 1\n",
    "    \n",
    "def tst_multiply():\n",
    "    output = mathfile.multiply(2,3)\n",
    "    assert output == 6"
   ]
  },
  {
   "cell_type": "code",
   "execution_count": 16,
   "id": "bc2460de",
   "metadata": {},
   "outputs": [
    {
     "name": "stdout",
     "output_type": "stream",
     "text": [
      "Writing rectangle.py\n"
     ]
    }
   ],
   "source": [
    "%%writefile rectangle.py\n",
    "def perimeter(l,b):\n",
    "    return 2*(l+b)\n",
    "\n",
    "def area(l,b):\n",
    "    return l*b"
   ]
  },
  {
   "cell_type": "code",
   "execution_count": 18,
   "id": "a1886b77",
   "metadata": {},
   "outputs": [
    {
     "name": "stdout",
     "output_type": "stream",
     "text": [
      "Overwriting test_rectangle.py\n"
     ]
    }
   ],
   "source": [
    "%%writefile test_rectangle.py\n",
    "import rectangle\n",
    "def test_perimeter():\n",
    "    output =  rectangle.perimeter(3,4)\n",
    "    assert output == 14\n",
    "    \n",
    "def test_area():\n",
    "    output = rectangle.area(3,4)\n",
    "    assert output == 12"
   ]
  },
  {
   "cell_type": "code",
   "execution_count": 27,
   "id": "55c5c71e",
   "metadata": {},
   "outputs": [
    {
     "name": "stdout",
     "output_type": "stream",
     "text": [
      "Overwriting test_multiple_level_tesing_mathfile.py\n"
     ]
    }
   ],
   "source": [
    "%%writefile  test_multiple_level_tesing_mathfile.py\n",
    "import mathfile\n",
    "import pytest\n",
    "\n",
    "@pytest.mark.parametrize(\"a,b,result\",[(5,6,11),(2.5,6.5,9.0),(\"hello\",\"testing\",\"hellotesting\")])\n",
    "def test_add(a,b,result):\n",
    "    assert mathfile.add(a,b) == result\n",
    "\n"
   ]
  },
  {
   "cell_type": "code",
   "execution_count": 28,
   "id": "88f1fdd6",
   "metadata": {},
   "outputs": [
    {
     "name": "stdout",
     "output_type": "stream",
     "text": [
      "Writing conftest.py\n"
     ]
    }
   ],
   "source": [
    "%%writefile conftest.py\n",
    "\n",
    "import pytest\n",
    "@pytest.fixture\n",
    "\n",
    "def input_data():\n",
    "    total = 100\n",
    "    return total"
   ]
  },
  {
   "cell_type": "code",
   "execution_count": 29,
   "id": "e2641ef3",
   "metadata": {},
   "outputs": [
    {
     "name": "stdout",
     "output_type": "stream",
     "text": [
      "Writing test_logic.py\n"
     ]
    }
   ],
   "source": [
    "%%writefile test_logic.py\n",
    "\n",
    "import pytest\n",
    "def test_total_by_5(input_data):\n",
    "    assert input_data %5 == 0\n",
    "def test_total_by_10(input_data):\n",
    "    assert input_data % 10 == 0"
   ]
  },
  {
   "cell_type": "code",
   "execution_count": 32,
   "id": "4ff13d90",
   "metadata": {},
   "outputs": [
    {
     "name": "stdout",
     "output_type": "stream",
     "text": [
      "enter a value5\n",
      "True\n",
      "True\n",
      "True\n",
      "True\n"
     ]
    }
   ],
   "source": [
    "x = int(input(\"enter a value\"))\n",
    "print(1<x<10)\n",
    "print(x<10<x*10<100)\n",
    "print(5==x>4)\n",
    "print(10>x<=9)"
   ]
  },
  {
   "cell_type": "raw",
   "id": "736b8175",
   "metadata": {},
   "source": [
    "numpy\n",
    "pandas\n",
    "matlplotlib\n",
    "seaborn"
   ]
  },
  {
   "cell_type": "code",
   "execution_count": 34,
   "id": "32b60786",
   "metadata": {},
   "outputs": [],
   "source": [
    "import pandas as pd"
   ]
  },
  {
   "cell_type": "code",
   "execution_count": 35,
   "id": "0c291732",
   "metadata": {},
   "outputs": [],
   "source": [
    "import numpy as np"
   ]
  },
  {
   "cell_type": "code",
   "execution_count": 40,
   "id": "df46be40",
   "metadata": {},
   "outputs": [
    {
     "data": {
      "text/plain": [
       "'/Users/satyadevtummala/Hexware Training'"
      ]
     },
     "execution_count": 40,
     "metadata": {},
     "output_type": "execute_result"
    }
   ],
   "source": [
    "os.getcwd()"
   ]
  },
  {
   "cell_type": "code",
   "execution_count": 39,
   "id": "6e118ca5",
   "metadata": {},
   "outputs": [],
   "source": [
    "os.chdir('..')"
   ]
  },
  {
   "cell_type": "code",
   "execution_count": 41,
   "id": "a0e24e10",
   "metadata": {},
   "outputs": [],
   "source": [
    "df = pd.read_csv('Bank_churn_modelling - Copy.csv')"
   ]
  },
  {
   "cell_type": "code",
   "execution_count": 42,
   "id": "7d5e2769",
   "metadata": {},
   "outputs": [
    {
     "data": {
      "text/plain": [
       "(10000, 14)"
      ]
     },
     "execution_count": 42,
     "metadata": {},
     "output_type": "execute_result"
    }
   ],
   "source": [
    "df.shape"
   ]
  },
  {
   "cell_type": "code",
   "execution_count": 43,
   "id": "513f9930",
   "metadata": {},
   "outputs": [
    {
     "name": "stdout",
     "output_type": "stream",
     "text": [
      "<class 'pandas.core.frame.DataFrame'>\n",
      "RangeIndex: 10000 entries, 0 to 9999\n",
      "Data columns (total 14 columns):\n",
      " #   Column           Non-Null Count  Dtype  \n",
      "---  ------           --------------  -----  \n",
      " 0   RowNumber        10000 non-null  int64  \n",
      " 1   CustomerId       10000 non-null  int64  \n",
      " 2   Surname          10000 non-null  object \n",
      " 3   CreditScore      10000 non-null  int64  \n",
      " 4   Geography        10000 non-null  object \n",
      " 5   Gender           10000 non-null  object \n",
      " 6   Age              10000 non-null  int64  \n",
      " 7   Tenure           10000 non-null  int64  \n",
      " 8   Balance          10000 non-null  float64\n",
      " 9   NumOfProducts    10000 non-null  int64  \n",
      " 10  HasCrCard        10000 non-null  int64  \n",
      " 11  IsActiveMember   10000 non-null  int64  \n",
      " 12  EstimatedSalary  10000 non-null  float64\n",
      " 13  Exited           10000 non-null  int64  \n",
      "dtypes: float64(2), int64(9), object(3)\n",
      "memory usage: 1.1+ MB\n"
     ]
    }
   ],
   "source": [
    "df.info()"
   ]
  },
  {
   "cell_type": "code",
   "execution_count": 47,
   "id": "4c555d10",
   "metadata": {},
   "outputs": [
    {
     "data": {
      "text/plain": [
       "pandas.core.frame.DataFrame"
      ]
     },
     "execution_count": 47,
     "metadata": {},
     "output_type": "execute_result"
    }
   ],
   "source": [
    "type(df)"
   ]
  },
  {
   "cell_type": "code",
   "execution_count": 44,
   "id": "1baf1a0e",
   "metadata": {},
   "outputs": [
    {
     "data": {
      "text/html": [
       "<div>\n",
       "<style scoped>\n",
       "    .dataframe tbody tr th:only-of-type {\n",
       "        vertical-align: middle;\n",
       "    }\n",
       "\n",
       "    .dataframe tbody tr th {\n",
       "        vertical-align: top;\n",
       "    }\n",
       "\n",
       "    .dataframe thead th {\n",
       "        text-align: right;\n",
       "    }\n",
       "</style>\n",
       "<table border=\"1\" class=\"dataframe\">\n",
       "  <thead>\n",
       "    <tr style=\"text-align: right;\">\n",
       "      <th></th>\n",
       "      <th>RowNumber</th>\n",
       "      <th>CustomerId</th>\n",
       "      <th>Surname</th>\n",
       "      <th>CreditScore</th>\n",
       "      <th>Geography</th>\n",
       "      <th>Gender</th>\n",
       "      <th>Age</th>\n",
       "      <th>Tenure</th>\n",
       "      <th>Balance</th>\n",
       "      <th>NumOfProducts</th>\n",
       "      <th>HasCrCard</th>\n",
       "      <th>IsActiveMember</th>\n",
       "      <th>EstimatedSalary</th>\n",
       "      <th>Exited</th>\n",
       "    </tr>\n",
       "  </thead>\n",
       "  <tbody>\n",
       "    <tr>\n",
       "      <th>0</th>\n",
       "      <td>1</td>\n",
       "      <td>15634602</td>\n",
       "      <td>Hargrave</td>\n",
       "      <td>619</td>\n",
       "      <td>France</td>\n",
       "      <td>Female</td>\n",
       "      <td>42</td>\n",
       "      <td>2</td>\n",
       "      <td>0.00</td>\n",
       "      <td>1</td>\n",
       "      <td>1</td>\n",
       "      <td>1</td>\n",
       "      <td>101348.88</td>\n",
       "      <td>1</td>\n",
       "    </tr>\n",
       "    <tr>\n",
       "      <th>1</th>\n",
       "      <td>2</td>\n",
       "      <td>15647311</td>\n",
       "      <td>Hill</td>\n",
       "      <td>608</td>\n",
       "      <td>Spain</td>\n",
       "      <td>Female</td>\n",
       "      <td>41</td>\n",
       "      <td>1</td>\n",
       "      <td>83807.86</td>\n",
       "      <td>1</td>\n",
       "      <td>0</td>\n",
       "      <td>1</td>\n",
       "      <td>112542.58</td>\n",
       "      <td>0</td>\n",
       "    </tr>\n",
       "    <tr>\n",
       "      <th>2</th>\n",
       "      <td>3</td>\n",
       "      <td>15619304</td>\n",
       "      <td>Onio</td>\n",
       "      <td>502</td>\n",
       "      <td>France</td>\n",
       "      <td>Female</td>\n",
       "      <td>42</td>\n",
       "      <td>8</td>\n",
       "      <td>159660.80</td>\n",
       "      <td>3</td>\n",
       "      <td>1</td>\n",
       "      <td>0</td>\n",
       "      <td>113931.57</td>\n",
       "      <td>1</td>\n",
       "    </tr>\n",
       "    <tr>\n",
       "      <th>3</th>\n",
       "      <td>4</td>\n",
       "      <td>15701354</td>\n",
       "      <td>Boni</td>\n",
       "      <td>699</td>\n",
       "      <td>France</td>\n",
       "      <td>Female</td>\n",
       "      <td>39</td>\n",
       "      <td>1</td>\n",
       "      <td>0.00</td>\n",
       "      <td>2</td>\n",
       "      <td>0</td>\n",
       "      <td>0</td>\n",
       "      <td>93826.63</td>\n",
       "      <td>0</td>\n",
       "    </tr>\n",
       "    <tr>\n",
       "      <th>4</th>\n",
       "      <td>5</td>\n",
       "      <td>15737888</td>\n",
       "      <td>Mitchell</td>\n",
       "      <td>850</td>\n",
       "      <td>Spain</td>\n",
       "      <td>Female</td>\n",
       "      <td>43</td>\n",
       "      <td>2</td>\n",
       "      <td>125510.82</td>\n",
       "      <td>1</td>\n",
       "      <td>1</td>\n",
       "      <td>1</td>\n",
       "      <td>79084.10</td>\n",
       "      <td>0</td>\n",
       "    </tr>\n",
       "  </tbody>\n",
       "</table>\n",
       "</div>"
      ],
      "text/plain": [
       "   RowNumber  CustomerId   Surname  CreditScore Geography  Gender  Age  \\\n",
       "0          1    15634602  Hargrave          619    France  Female   42   \n",
       "1          2    15647311      Hill          608     Spain  Female   41   \n",
       "2          3    15619304      Onio          502    France  Female   42   \n",
       "3          4    15701354      Boni          699    France  Female   39   \n",
       "4          5    15737888  Mitchell          850     Spain  Female   43   \n",
       "\n",
       "   Tenure    Balance  NumOfProducts  HasCrCard  IsActiveMember  \\\n",
       "0       2       0.00              1          1               1   \n",
       "1       1   83807.86              1          0               1   \n",
       "2       8  159660.80              3          1               0   \n",
       "3       1       0.00              2          0               0   \n",
       "4       2  125510.82              1          1               1   \n",
       "\n",
       "   EstimatedSalary  Exited  \n",
       "0        101348.88       1  \n",
       "1        112542.58       0  \n",
       "2        113931.57       1  \n",
       "3         93826.63       0  \n",
       "4         79084.10       0  "
      ]
     },
     "execution_count": 44,
     "metadata": {},
     "output_type": "execute_result"
    }
   ],
   "source": [
    "df.head()"
   ]
  },
  {
   "cell_type": "code",
   "execution_count": 46,
   "id": "2937c6d0",
   "metadata": {},
   "outputs": [
    {
     "data": {
      "text/html": [
       "<div>\n",
       "<style scoped>\n",
       "    .dataframe tbody tr th:only-of-type {\n",
       "        vertical-align: middle;\n",
       "    }\n",
       "\n",
       "    .dataframe tbody tr th {\n",
       "        vertical-align: top;\n",
       "    }\n",
       "\n",
       "    .dataframe thead th {\n",
       "        text-align: right;\n",
       "    }\n",
       "</style>\n",
       "<table border=\"1\" class=\"dataframe\">\n",
       "  <thead>\n",
       "    <tr style=\"text-align: right;\">\n",
       "      <th></th>\n",
       "      <th>RowNumber</th>\n",
       "      <th>CustomerId</th>\n",
       "      <th>Surname</th>\n",
       "      <th>CreditScore</th>\n",
       "      <th>Geography</th>\n",
       "      <th>Gender</th>\n",
       "      <th>Age</th>\n",
       "      <th>Tenure</th>\n",
       "      <th>Balance</th>\n",
       "      <th>NumOfProducts</th>\n",
       "      <th>HasCrCard</th>\n",
       "      <th>IsActiveMember</th>\n",
       "      <th>EstimatedSalary</th>\n",
       "      <th>Exited</th>\n",
       "    </tr>\n",
       "  </thead>\n",
       "  <tbody>\n",
       "    <tr>\n",
       "      <th>9997</th>\n",
       "      <td>9998</td>\n",
       "      <td>15584532</td>\n",
       "      <td>Liu</td>\n",
       "      <td>709</td>\n",
       "      <td>France</td>\n",
       "      <td>Female</td>\n",
       "      <td>36</td>\n",
       "      <td>7</td>\n",
       "      <td>0.00</td>\n",
       "      <td>1</td>\n",
       "      <td>0</td>\n",
       "      <td>1</td>\n",
       "      <td>42085.58</td>\n",
       "      <td>1</td>\n",
       "    </tr>\n",
       "    <tr>\n",
       "      <th>9998</th>\n",
       "      <td>9999</td>\n",
       "      <td>15682355</td>\n",
       "      <td>Sabbatini</td>\n",
       "      <td>772</td>\n",
       "      <td>Germany</td>\n",
       "      <td>Male</td>\n",
       "      <td>42</td>\n",
       "      <td>3</td>\n",
       "      <td>75075.31</td>\n",
       "      <td>2</td>\n",
       "      <td>1</td>\n",
       "      <td>0</td>\n",
       "      <td>92888.52</td>\n",
       "      <td>1</td>\n",
       "    </tr>\n",
       "    <tr>\n",
       "      <th>9999</th>\n",
       "      <td>10000</td>\n",
       "      <td>15628319</td>\n",
       "      <td>Walker</td>\n",
       "      <td>792</td>\n",
       "      <td>France</td>\n",
       "      <td>Female</td>\n",
       "      <td>28</td>\n",
       "      <td>4</td>\n",
       "      <td>130142.79</td>\n",
       "      <td>1</td>\n",
       "      <td>1</td>\n",
       "      <td>0</td>\n",
       "      <td>38190.78</td>\n",
       "      <td>0</td>\n",
       "    </tr>\n",
       "  </tbody>\n",
       "</table>\n",
       "</div>"
      ],
      "text/plain": [
       "      RowNumber  CustomerId    Surname  CreditScore Geography  Gender  Age  \\\n",
       "9997       9998    15584532        Liu          709    France  Female   36   \n",
       "9998       9999    15682355  Sabbatini          772   Germany    Male   42   \n",
       "9999      10000    15628319     Walker          792    France  Female   28   \n",
       "\n",
       "      Tenure    Balance  NumOfProducts  HasCrCard  IsActiveMember  \\\n",
       "9997       7       0.00              1          0               1   \n",
       "9998       3   75075.31              2          1               0   \n",
       "9999       4  130142.79              1          1               0   \n",
       "\n",
       "      EstimatedSalary  Exited  \n",
       "9997         42085.58       1  \n",
       "9998         92888.52       1  \n",
       "9999         38190.78       0  "
      ]
     },
     "execution_count": 46,
     "metadata": {},
     "output_type": "execute_result"
    }
   ],
   "source": [
    "df.tail(3)"
   ]
  },
  {
   "cell_type": "code",
   "execution_count": 48,
   "id": "7e69a256",
   "metadata": {},
   "outputs": [
    {
     "data": {
      "text/plain": [
       "France     5014\n",
       "Germany    2509\n",
       "Spain      2477\n",
       "Name: Geography, dtype: int64"
      ]
     },
     "execution_count": 48,
     "metadata": {},
     "output_type": "execute_result"
    }
   ],
   "source": [
    "df['Geography'].value_counts()"
   ]
  },
  {
   "cell_type": "code",
   "execution_count": 49,
   "id": "d91ef39b",
   "metadata": {},
   "outputs": [
    {
     "data": {
      "text/plain": [
       "10000"
      ]
     },
     "execution_count": 49,
     "metadata": {},
     "output_type": "execute_result"
    }
   ],
   "source": [
    "df['Geography'].size"
   ]
  },
  {
   "cell_type": "code",
   "execution_count": 51,
   "id": "a479764c",
   "metadata": {},
   "outputs": [],
   "source": [
    "df_par = pd.read_parquet('Data_Subsetw.parquet')"
   ]
  },
  {
   "cell_type": "code",
   "execution_count": 52,
   "id": "7ab313c3",
   "metadata": {},
   "outputs": [
    {
     "data": {
      "text/plain": [
       "(210, 75)"
      ]
     },
     "execution_count": 52,
     "metadata": {},
     "output_type": "execute_result"
    }
   ],
   "source": [
    "df_par.shape"
   ]
  },
  {
   "cell_type": "code",
   "execution_count": 54,
   "id": "07303af1",
   "metadata": {},
   "outputs": [
    {
     "data": {
      "text/plain": [
       "15750"
      ]
     },
     "execution_count": 54,
     "metadata": {},
     "output_type": "execute_result"
    }
   ],
   "source": [
    "df_par.size"
   ]
  },
  {
   "cell_type": "code",
   "execution_count": 55,
   "id": "cc685f6c",
   "metadata": {},
   "outputs": [
    {
     "data": {
      "text/html": [
       "<div>\n",
       "<style scoped>\n",
       "    .dataframe tbody tr th:only-of-type {\n",
       "        vertical-align: middle;\n",
       "    }\n",
       "\n",
       "    .dataframe tbody tr th {\n",
       "        vertical-align: top;\n",
       "    }\n",
       "\n",
       "    .dataframe thead th {\n",
       "        text-align: right;\n",
       "    }\n",
       "</style>\n",
       "<table border=\"1\" class=\"dataframe\">\n",
       "  <thead>\n",
       "    <tr style=\"text-align: right;\">\n",
       "      <th></th>\n",
       "      <th>ShipTo</th>\n",
       "      <th>measures_measureDate</th>\n",
       "      <th>ControllerID</th>\n",
       "      <th>Result</th>\n",
       "      <th>Cell Fouling</th>\n",
       "      <th>Conductivity</th>\n",
       "      <th>NCM 1</th>\n",
       "      <th>NCM 2</th>\n",
       "      <th>Nonox Bio Relay On Time</th>\n",
       "      <th>ORP</th>\n",
       "      <th>...</th>\n",
       "      <th>windSpdMax</th>\n",
       "      <th>windSpd80mMin</th>\n",
       "      <th>windSpd80mAvg</th>\n",
       "      <th>windSpd80mMax</th>\n",
       "      <th>windSpd100mMin</th>\n",
       "      <th>windSpd100mAvg</th>\n",
       "      <th>windSpd100mMax</th>\n",
       "      <th>wetBulbMin</th>\n",
       "      <th>wetBulbAvg</th>\n",
       "      <th>wetBulbMax</th>\n",
       "    </tr>\n",
       "  </thead>\n",
       "  <tbody>\n",
       "    <tr>\n",
       "      <th>0</th>\n",
       "      <td>150010683</td>\n",
       "      <td>2014-01-02</td>\n",
       "      <td>15490</td>\n",
       "      <td>0</td>\n",
       "      <td>0.00000</td>\n",
       "      <td>968.241042</td>\n",
       "      <td>2.173437</td>\n",
       "      <td>0.017292</td>\n",
       "      <td>0.000000</td>\n",
       "      <td>518.416667</td>\n",
       "      <td>...</td>\n",
       "      <td>27.2</td>\n",
       "      <td>26.2</td>\n",
       "      <td>31.2</td>\n",
       "      <td>38.5</td>\n",
       "      <td>27.3</td>\n",
       "      <td>32.7</td>\n",
       "      <td>40.3</td>\n",
       "      <td>37.1</td>\n",
       "      <td>40.6</td>\n",
       "      <td>44.1</td>\n",
       "    </tr>\n",
       "    <tr>\n",
       "      <th>1</th>\n",
       "      <td>150010683</td>\n",
       "      <td>2014-01-02</td>\n",
       "      <td>21778</td>\n",
       "      <td>0</td>\n",
       "      <td>4.20000</td>\n",
       "      <td>1160.834706</td>\n",
       "      <td>0.100000</td>\n",
       "      <td>0.016471</td>\n",
       "      <td>5.752941</td>\n",
       "      <td>385.282353</td>\n",
       "      <td>...</td>\n",
       "      <td>27.2</td>\n",
       "      <td>26.2</td>\n",
       "      <td>31.2</td>\n",
       "      <td>38.5</td>\n",
       "      <td>27.3</td>\n",
       "      <td>32.7</td>\n",
       "      <td>40.3</td>\n",
       "      <td>37.1</td>\n",
       "      <td>40.6</td>\n",
       "      <td>44.1</td>\n",
       "    </tr>\n",
       "    <tr>\n",
       "      <th>2</th>\n",
       "      <td>150163434</td>\n",
       "      <td>2014-01-02</td>\n",
       "      <td>110015</td>\n",
       "      <td>0</td>\n",
       "      <td>2.62500</td>\n",
       "      <td>2554.996042</td>\n",
       "      <td>2.238229</td>\n",
       "      <td>0.110937</td>\n",
       "      <td>0.000000</td>\n",
       "      <td>515.395833</td>\n",
       "      <td>...</td>\n",
       "      <td>14.9</td>\n",
       "      <td>7.3</td>\n",
       "      <td>13.1</td>\n",
       "      <td>19.4</td>\n",
       "      <td>7.4</td>\n",
       "      <td>13.3</td>\n",
       "      <td>19.7</td>\n",
       "      <td>49.6</td>\n",
       "      <td>54.7</td>\n",
       "      <td>59.8</td>\n",
       "    </tr>\n",
       "    <tr>\n",
       "      <th>3</th>\n",
       "      <td>150163434</td>\n",
       "      <td>2014-01-02</td>\n",
       "      <td>110792</td>\n",
       "      <td>0</td>\n",
       "      <td>77.40625</td>\n",
       "      <td>151.083333</td>\n",
       "      <td>2.742708</td>\n",
       "      <td>0.246250</td>\n",
       "      <td>0.000000</td>\n",
       "      <td>294.625000</td>\n",
       "      <td>...</td>\n",
       "      <td>14.9</td>\n",
       "      <td>7.3</td>\n",
       "      <td>13.1</td>\n",
       "      <td>19.4</td>\n",
       "      <td>7.4</td>\n",
       "      <td>13.3</td>\n",
       "      <td>19.7</td>\n",
       "      <td>49.6</td>\n",
       "      <td>54.7</td>\n",
       "      <td>59.8</td>\n",
       "    </tr>\n",
       "    <tr>\n",
       "      <th>4</th>\n",
       "      <td>150219235</td>\n",
       "      <td>2014-01-02</td>\n",
       "      <td>53679</td>\n",
       "      <td>0</td>\n",
       "      <td>0.00000</td>\n",
       "      <td>1580.237158</td>\n",
       "      <td>1.148526</td>\n",
       "      <td>0.130105</td>\n",
       "      <td>1.473684</td>\n",
       "      <td>566.915789</td>\n",
       "      <td>...</td>\n",
       "      <td>10.7</td>\n",
       "      <td>1.0</td>\n",
       "      <td>7.9</td>\n",
       "      <td>16.9</td>\n",
       "      <td>1.0</td>\n",
       "      <td>8.0</td>\n",
       "      <td>17.1</td>\n",
       "      <td>39.0</td>\n",
       "      <td>50.5</td>\n",
       "      <td>59.2</td>\n",
       "    </tr>\n",
       "  </tbody>\n",
       "</table>\n",
       "<p>5 rows × 75 columns</p>\n",
       "</div>"
      ],
      "text/plain": [
       "      ShipTo measures_measureDate  ControllerID  Result  Cell Fouling  \\\n",
       "0  150010683           2014-01-02         15490       0       0.00000   \n",
       "1  150010683           2014-01-02         21778       0       4.20000   \n",
       "2  150163434           2014-01-02        110015       0       2.62500   \n",
       "3  150163434           2014-01-02        110792       0      77.40625   \n",
       "4  150219235           2014-01-02         53679       0       0.00000   \n",
       "\n",
       "   Conductivity     NCM 1     NCM 2  Nonox Bio Relay On Time         ORP  ...  \\\n",
       "0    968.241042  2.173437  0.017292                 0.000000  518.416667  ...   \n",
       "1   1160.834706  0.100000  0.016471                 5.752941  385.282353  ...   \n",
       "2   2554.996042  2.238229  0.110937                 0.000000  515.395833  ...   \n",
       "3    151.083333  2.742708  0.246250                 0.000000  294.625000  ...   \n",
       "4   1580.237158  1.148526  0.130105                 1.473684  566.915789  ...   \n",
       "\n",
       "   windSpdMax  windSpd80mMin  windSpd80mAvg  windSpd80mMax  windSpd100mMin  \\\n",
       "0        27.2           26.2           31.2           38.5            27.3   \n",
       "1        27.2           26.2           31.2           38.5            27.3   \n",
       "2        14.9            7.3           13.1           19.4             7.4   \n",
       "3        14.9            7.3           13.1           19.4             7.4   \n",
       "4        10.7            1.0            7.9           16.9             1.0   \n",
       "\n",
       "   windSpd100mAvg windSpd100mMax wetBulbMin  wetBulbAvg  wetBulbMax  \n",
       "0            32.7           40.3       37.1        40.6        44.1  \n",
       "1            32.7           40.3       37.1        40.6        44.1  \n",
       "2            13.3           19.7       49.6        54.7        59.8  \n",
       "3            13.3           19.7       49.6        54.7        59.8  \n",
       "4             8.0           17.1       39.0        50.5        59.2  \n",
       "\n",
       "[5 rows x 75 columns]"
      ]
     },
     "execution_count": 55,
     "metadata": {},
     "output_type": "execute_result"
    }
   ],
   "source": [
    "df_par.head()"
   ]
  },
  {
   "cell_type": "code",
   "execution_count": 56,
   "id": "99ff0ceb",
   "metadata": {},
   "outputs": [
    {
     "data": {
      "text/html": [
       "<div>\n",
       "<style scoped>\n",
       "    .dataframe tbody tr th:only-of-type {\n",
       "        vertical-align: middle;\n",
       "    }\n",
       "\n",
       "    .dataframe tbody tr th {\n",
       "        vertical-align: top;\n",
       "    }\n",
       "\n",
       "    .dataframe thead th {\n",
       "        text-align: right;\n",
       "    }\n",
       "</style>\n",
       "<table border=\"1\" class=\"dataframe\">\n",
       "  <thead>\n",
       "    <tr style=\"text-align: right;\">\n",
       "      <th></th>\n",
       "      <th>ShipTo</th>\n",
       "      <th>measures_measureDate</th>\n",
       "      <th>ControllerID</th>\n",
       "      <th>Result</th>\n",
       "      <th>Cell Fouling</th>\n",
       "      <th>Conductivity</th>\n",
       "      <th>NCM 1</th>\n",
       "      <th>NCM 2</th>\n",
       "      <th>Nonox Bio Relay On Time</th>\n",
       "      <th>ORP</th>\n",
       "      <th>...</th>\n",
       "      <th>windSpdMax</th>\n",
       "      <th>windSpd80mMin</th>\n",
       "      <th>windSpd80mAvg</th>\n",
       "      <th>windSpd80mMax</th>\n",
       "      <th>windSpd100mMin</th>\n",
       "      <th>windSpd100mAvg</th>\n",
       "      <th>windSpd100mMax</th>\n",
       "      <th>wetBulbMin</th>\n",
       "      <th>wetBulbAvg</th>\n",
       "      <th>wetBulbMax</th>\n",
       "    </tr>\n",
       "  </thead>\n",
       "  <tbody>\n",
       "    <tr>\n",
       "      <th>63</th>\n",
       "      <td>150143993</td>\n",
       "      <td>2014-01-16</td>\n",
       "      <td>23809</td>\n",
       "      <td>1</td>\n",
       "      <td>1.020833</td>\n",
       "      <td>1197.916354</td>\n",
       "      <td>0.943958</td>\n",
       "      <td>0.010000</td>\n",
       "      <td>9.927083</td>\n",
       "      <td>164.218750</td>\n",
       "      <td>...</td>\n",
       "      <td>9.2</td>\n",
       "      <td>3.5</td>\n",
       "      <td>7.5</td>\n",
       "      <td>11.1</td>\n",
       "      <td>3.5</td>\n",
       "      <td>7.5</td>\n",
       "      <td>11.1</td>\n",
       "      <td>68.5</td>\n",
       "      <td>70.2</td>\n",
       "      <td>71.6</td>\n",
       "    </tr>\n",
       "    <tr>\n",
       "      <th>64</th>\n",
       "      <td>150143993</td>\n",
       "      <td>2014-01-16</td>\n",
       "      <td>86833</td>\n",
       "      <td>1</td>\n",
       "      <td>5.750000</td>\n",
       "      <td>1191.117135</td>\n",
       "      <td>1.289375</td>\n",
       "      <td>0.010000</td>\n",
       "      <td>2.625000</td>\n",
       "      <td>311.916667</td>\n",
       "      <td>...</td>\n",
       "      <td>9.2</td>\n",
       "      <td>3.5</td>\n",
       "      <td>7.5</td>\n",
       "      <td>11.1</td>\n",
       "      <td>3.5</td>\n",
       "      <td>7.5</td>\n",
       "      <td>11.1</td>\n",
       "      <td>68.5</td>\n",
       "      <td>70.2</td>\n",
       "      <td>71.6</td>\n",
       "    </tr>\n",
       "    <tr>\n",
       "      <th>65</th>\n",
       "      <td>150143993</td>\n",
       "      <td>2014-01-16</td>\n",
       "      <td>115796</td>\n",
       "      <td>1</td>\n",
       "      <td>3.204545</td>\n",
       "      <td>3018.831705</td>\n",
       "      <td>3.170455</td>\n",
       "      <td>0.035909</td>\n",
       "      <td>70.488636</td>\n",
       "      <td>295.420455</td>\n",
       "      <td>...</td>\n",
       "      <td>9.2</td>\n",
       "      <td>3.5</td>\n",
       "      <td>7.5</td>\n",
       "      <td>11.1</td>\n",
       "      <td>3.5</td>\n",
       "      <td>7.5</td>\n",
       "      <td>11.1</td>\n",
       "      <td>68.5</td>\n",
       "      <td>70.2</td>\n",
       "      <td>71.6</td>\n",
       "    </tr>\n",
       "    <tr>\n",
       "      <th>66</th>\n",
       "      <td>150143993</td>\n",
       "      <td>2014-01-16</td>\n",
       "      <td>132129</td>\n",
       "      <td>1</td>\n",
       "      <td>1.697917</td>\n",
       "      <td>1289.292917</td>\n",
       "      <td>1.670313</td>\n",
       "      <td>0.124896</td>\n",
       "      <td>0.083333</td>\n",
       "      <td>304.937500</td>\n",
       "      <td>...</td>\n",
       "      <td>9.2</td>\n",
       "      <td>3.5</td>\n",
       "      <td>7.5</td>\n",
       "      <td>11.1</td>\n",
       "      <td>3.5</td>\n",
       "      <td>7.5</td>\n",
       "      <td>11.1</td>\n",
       "      <td>68.5</td>\n",
       "      <td>70.2</td>\n",
       "      <td>71.6</td>\n",
       "    </tr>\n",
       "    <tr>\n",
       "      <th>67</th>\n",
       "      <td>150143993</td>\n",
       "      <td>2014-01-16</td>\n",
       "      <td>142744</td>\n",
       "      <td>1</td>\n",
       "      <td>6.270833</td>\n",
       "      <td>1494.662292</td>\n",
       "      <td>0.562500</td>\n",
       "      <td>0.010000</td>\n",
       "      <td>0.000000</td>\n",
       "      <td>254.406250</td>\n",
       "      <td>...</td>\n",
       "      <td>9.2</td>\n",
       "      <td>3.5</td>\n",
       "      <td>7.5</td>\n",
       "      <td>11.1</td>\n",
       "      <td>3.5</td>\n",
       "      <td>7.5</td>\n",
       "      <td>11.1</td>\n",
       "      <td>68.5</td>\n",
       "      <td>70.2</td>\n",
       "      <td>71.6</td>\n",
       "    </tr>\n",
       "  </tbody>\n",
       "</table>\n",
       "<p>5 rows × 75 columns</p>\n",
       "</div>"
      ],
      "text/plain": [
       "       ShipTo measures_measureDate  ControllerID  Result  Cell Fouling  \\\n",
       "63  150143993           2014-01-16         23809       1      1.020833   \n",
       "64  150143993           2014-01-16         86833       1      5.750000   \n",
       "65  150143993           2014-01-16        115796       1      3.204545   \n",
       "66  150143993           2014-01-16        132129       1      1.697917   \n",
       "67  150143993           2014-01-16        142744       1      6.270833   \n",
       "\n",
       "    Conductivity     NCM 1     NCM 2  Nonox Bio Relay On Time         ORP  \\\n",
       "63   1197.916354  0.943958  0.010000                 9.927083  164.218750   \n",
       "64   1191.117135  1.289375  0.010000                 2.625000  311.916667   \n",
       "65   3018.831705  3.170455  0.035909                70.488636  295.420455   \n",
       "66   1289.292917  1.670313  0.124896                 0.083333  304.937500   \n",
       "67   1494.662292  0.562500  0.010000                 0.000000  254.406250   \n",
       "\n",
       "    ...  windSpdMax  windSpd80mMin  windSpd80mAvg  windSpd80mMax  \\\n",
       "63  ...         9.2            3.5            7.5           11.1   \n",
       "64  ...         9.2            3.5            7.5           11.1   \n",
       "65  ...         9.2            3.5            7.5           11.1   \n",
       "66  ...         9.2            3.5            7.5           11.1   \n",
       "67  ...         9.2            3.5            7.5           11.1   \n",
       "\n",
       "    windSpd100mMin  windSpd100mAvg windSpd100mMax wetBulbMin  wetBulbAvg  \\\n",
       "63             3.5             7.5           11.1       68.5        70.2   \n",
       "64             3.5             7.5           11.1       68.5        70.2   \n",
       "65             3.5             7.5           11.1       68.5        70.2   \n",
       "66             3.5             7.5           11.1       68.5        70.2   \n",
       "67             3.5             7.5           11.1       68.5        70.2   \n",
       "\n",
       "    wetBulbMax  \n",
       "63        71.6  \n",
       "64        71.6  \n",
       "65        71.6  \n",
       "66        71.6  \n",
       "67        71.6  \n",
       "\n",
       "[5 rows x 75 columns]"
      ]
     },
     "execution_count": 56,
     "metadata": {},
     "output_type": "execute_result"
    }
   ],
   "source": [
    "df_par.tail()"
   ]
  },
  {
   "cell_type": "code",
   "execution_count": 57,
   "id": "793f6cc1",
   "metadata": {},
   "outputs": [
    {
     "data": {
      "text/plain": [
       "ShipTo                   74\n",
       "measures_measureDate     32\n",
       "ControllerID            137\n",
       "Result                    2\n",
       "Cell Fouling            130\n",
       "                       ... \n",
       "windSpd100mAvg           79\n",
       "windSpd100mMax           82\n",
       "wetBulbMin               92\n",
       "wetBulbAvg               90\n",
       "wetBulbMax               89\n",
       "Length: 75, dtype: int64"
      ]
     },
     "execution_count": 57,
     "metadata": {},
     "output_type": "execute_result"
    }
   ],
   "source": [
    "df_par.nunique()"
   ]
  },
  {
   "cell_type": "code",
   "execution_count": 59,
   "id": "6e28d559",
   "metadata": {},
   "outputs": [
    {
     "data": {
      "text/plain": [
       "array(['2014-01-02T00:00:00.000000000', '2014-01-05T00:00:00.000000000',\n",
       "       '2014-01-06T00:00:00.000000000', '2014-01-07T00:00:00.000000000',\n",
       "       '2014-01-08T00:00:00.000000000', '2014-01-09T00:00:00.000000000',\n",
       "       '2014-01-10T00:00:00.000000000', '2014-01-13T00:00:00.000000000',\n",
       "       '2014-01-14T00:00:00.000000000', '2014-01-15T00:00:00.000000000',\n",
       "       '2014-01-16T00:00:00.000000000', '2014-01-17T00:00:00.000000000',\n",
       "       '2014-01-20T00:00:00.000000000', '2014-01-21T00:00:00.000000000',\n",
       "       '2014-01-22T00:00:00.000000000', '2014-01-23T00:00:00.000000000',\n",
       "       '2014-01-24T00:00:00.000000000', '2014-01-27T00:00:00.000000000',\n",
       "       '2014-01-28T00:00:00.000000000', '2014-01-29T00:00:00.000000000',\n",
       "       '2014-01-30T00:00:00.000000000', '2014-01-31T00:00:00.000000000',\n",
       "       '2014-02-03T00:00:00.000000000', '2014-02-04T00:00:00.000000000',\n",
       "       '2014-02-05T00:00:00.000000000', '2014-02-06T00:00:00.000000000',\n",
       "       '2014-02-07T00:00:00.000000000', '2014-02-10T00:00:00.000000000',\n",
       "       '2014-02-11T00:00:00.000000000', '2014-02-12T00:00:00.000000000',\n",
       "       '2014-02-13T00:00:00.000000000', '2014-02-14T00:00:00.000000000'],\n",
       "      dtype='datetime64[ns]')"
      ]
     },
     "execution_count": 59,
     "metadata": {},
     "output_type": "execute_result"
    }
   ],
   "source": [
    "df_par['measures_measureDate'].unique()"
   ]
  },
  {
   "cell_type": "code",
   "execution_count": 60,
   "id": "e5e4504b",
   "metadata": {},
   "outputs": [
    {
     "data": {
      "text/plain": [
       "ShipTo                           int64\n",
       "measures_measureDate    datetime64[ns]\n",
       "ControllerID                     int64\n",
       "Result                           int64\n",
       "Cell Fouling                   float64\n",
       "                             ...      \n",
       "windSpd100mAvg                 float64\n",
       "windSpd100mMax                 float64\n",
       "wetBulbMin                     float64\n",
       "wetBulbAvg                     float64\n",
       "wetBulbMax                     float64\n",
       "Length: 75, dtype: object"
      ]
     },
     "execution_count": 60,
     "metadata": {},
     "output_type": "execute_result"
    }
   ],
   "source": [
    "df_par.dtypes"
   ]
  },
  {
   "cell_type": "code",
   "execution_count": 61,
   "id": "9387bcd1",
   "metadata": {},
   "outputs": [
    {
     "data": {
      "text/plain": [
       "Index(['ShipTo', 'measures_measureDate', 'ControllerID', 'Result',\n",
       "       'Cell Fouling', 'Conductivity', 'NCM 1', 'NCM 2',\n",
       "       'Nonox Bio Relay On Time', 'ORP', 'Ox Bio Relay On Time', 'TRASAR Dose',\n",
       "       'Tagged Polymer Dose', 'Temperature', 'Turbidity', 'pH', 'SBU',\n",
       "       'CountryCode', 'Latitude', 'Longitude', 'cldCvrMin', 'cldCvrAvg',\n",
       "       'cldCvrMax', 'dewPtMin', 'dewPtAvg', 'dewPtMax', 'feelsLikeMin',\n",
       "       'feelsLikeAvg', 'feelsLikeMax', 'heatIndexMin', 'heatIndexAvg',\n",
       "       'heatIndexMax', 'mslPresMin', 'mslPresAvg', 'mslPresMax', 'precip',\n",
       "       'presTendMin', 'presTendAvg', 'presTendMax', 'radSolarMin',\n",
       "       'radSolarAvg', 'radSolarMax', 'radSolarTot', 'relHumMin', 'relHumAvg',\n",
       "       'relHumMax', 'sfcPresMin', 'sfcPresAvg', 'sfcPresMax', 'snowDepth',\n",
       "       'snowfall', 'spcHumMin', 'spcHumAvg', 'spcHumMax', 'tempMin', 'tempAvg',\n",
       "       'tempMax', 'windChillMin', 'windChillAvg', 'windChillMax', 'windDirAvg',\n",
       "       'windDir80mAvg', 'windDir100mAvg', 'windSpdMin', 'windSpdAvg',\n",
       "       'windSpdMax', 'windSpd80mMin', 'windSpd80mAvg', 'windSpd80mMax',\n",
       "       'windSpd100mMin', 'windSpd100mAvg', 'windSpd100mMax', 'wetBulbMin',\n",
       "       'wetBulbAvg', 'wetBulbMax'],\n",
       "      dtype='object')"
      ]
     },
     "execution_count": 61,
     "metadata": {},
     "output_type": "execute_result"
    }
   ],
   "source": [
    "df_par.columns"
   ]
  },
  {
   "cell_type": "code",
   "execution_count": 66,
   "id": "ad0e6cce",
   "metadata": {},
   "outputs": [
    {
     "data": {
      "text/html": [
       "<div>\n",
       "<style scoped>\n",
       "    .dataframe tbody tr th:only-of-type {\n",
       "        vertical-align: middle;\n",
       "    }\n",
       "\n",
       "    .dataframe tbody tr th {\n",
       "        vertical-align: top;\n",
       "    }\n",
       "\n",
       "    .dataframe thead th {\n",
       "        text-align: right;\n",
       "    }\n",
       "</style>\n",
       "<table border=\"1\" class=\"dataframe\">\n",
       "  <thead>\n",
       "    <tr style=\"text-align: right;\">\n",
       "      <th></th>\n",
       "      <th>ShipTo</th>\n",
       "      <th>measures_measureDate</th>\n",
       "      <th>ControllerID</th>\n",
       "      <th>Result</th>\n",
       "      <th>Cell Fouling</th>\n",
       "      <th>NCM 1</th>\n",
       "      <th>NCM 2</th>\n",
       "      <th>Nonox Bio Relay On Time</th>\n",
       "      <th>ORP</th>\n",
       "      <th>Ox Bio Relay On Time</th>\n",
       "      <th>...</th>\n",
       "      <th>windSpdMax</th>\n",
       "      <th>windSpd80mMin</th>\n",
       "      <th>windSpd80mAvg</th>\n",
       "      <th>windSpd80mMax</th>\n",
       "      <th>windSpd100mMin</th>\n",
       "      <th>windSpd100mAvg</th>\n",
       "      <th>windSpd100mMax</th>\n",
       "      <th>wetBulbMin</th>\n",
       "      <th>wetBulbAvg</th>\n",
       "      <th>wetBulbMax</th>\n",
       "    </tr>\n",
       "  </thead>\n",
       "  <tbody>\n",
       "    <tr>\n",
       "      <th>0</th>\n",
       "      <td>150010683</td>\n",
       "      <td>2014-01-02</td>\n",
       "      <td>15490</td>\n",
       "      <td>0</td>\n",
       "      <td>0.000000</td>\n",
       "      <td>2.173437</td>\n",
       "      <td>0.017292</td>\n",
       "      <td>0.000000</td>\n",
       "      <td>518.416667</td>\n",
       "      <td>95.760417</td>\n",
       "      <td>...</td>\n",
       "      <td>27.2</td>\n",
       "      <td>26.2</td>\n",
       "      <td>31.2</td>\n",
       "      <td>38.5</td>\n",
       "      <td>27.3</td>\n",
       "      <td>32.7</td>\n",
       "      <td>40.3</td>\n",
       "      <td>37.1</td>\n",
       "      <td>40.6</td>\n",
       "      <td>44.1</td>\n",
       "    </tr>\n",
       "    <tr>\n",
       "      <th>1</th>\n",
       "      <td>150010683</td>\n",
       "      <td>2014-01-02</td>\n",
       "      <td>21778</td>\n",
       "      <td>0</td>\n",
       "      <td>4.200000</td>\n",
       "      <td>0.100000</td>\n",
       "      <td>0.016471</td>\n",
       "      <td>5.752941</td>\n",
       "      <td>385.282353</td>\n",
       "      <td>0.000000</td>\n",
       "      <td>...</td>\n",
       "      <td>27.2</td>\n",
       "      <td>26.2</td>\n",
       "      <td>31.2</td>\n",
       "      <td>38.5</td>\n",
       "      <td>27.3</td>\n",
       "      <td>32.7</td>\n",
       "      <td>40.3</td>\n",
       "      <td>37.1</td>\n",
       "      <td>40.6</td>\n",
       "      <td>44.1</td>\n",
       "    </tr>\n",
       "    <tr>\n",
       "      <th>2</th>\n",
       "      <td>150163434</td>\n",
       "      <td>2014-01-02</td>\n",
       "      <td>110015</td>\n",
       "      <td>0</td>\n",
       "      <td>2.625000</td>\n",
       "      <td>2.238229</td>\n",
       "      <td>0.110937</td>\n",
       "      <td>0.000000</td>\n",
       "      <td>515.395833</td>\n",
       "      <td>23.593750</td>\n",
       "      <td>...</td>\n",
       "      <td>14.9</td>\n",
       "      <td>7.3</td>\n",
       "      <td>13.1</td>\n",
       "      <td>19.4</td>\n",
       "      <td>7.4</td>\n",
       "      <td>13.3</td>\n",
       "      <td>19.7</td>\n",
       "      <td>49.6</td>\n",
       "      <td>54.7</td>\n",
       "      <td>59.8</td>\n",
       "    </tr>\n",
       "    <tr>\n",
       "      <th>3</th>\n",
       "      <td>150163434</td>\n",
       "      <td>2014-01-02</td>\n",
       "      <td>110792</td>\n",
       "      <td>0</td>\n",
       "      <td>77.406250</td>\n",
       "      <td>2.742708</td>\n",
       "      <td>0.246250</td>\n",
       "      <td>0.000000</td>\n",
       "      <td>294.625000</td>\n",
       "      <td>33.020833</td>\n",
       "      <td>...</td>\n",
       "      <td>14.9</td>\n",
       "      <td>7.3</td>\n",
       "      <td>13.1</td>\n",
       "      <td>19.4</td>\n",
       "      <td>7.4</td>\n",
       "      <td>13.3</td>\n",
       "      <td>19.7</td>\n",
       "      <td>49.6</td>\n",
       "      <td>54.7</td>\n",
       "      <td>59.8</td>\n",
       "    </tr>\n",
       "    <tr>\n",
       "      <th>4</th>\n",
       "      <td>150219235</td>\n",
       "      <td>2014-01-02</td>\n",
       "      <td>53679</td>\n",
       "      <td>0</td>\n",
       "      <td>0.000000</td>\n",
       "      <td>1.148526</td>\n",
       "      <td>0.130105</td>\n",
       "      <td>1.473684</td>\n",
       "      <td>566.915789</td>\n",
       "      <td>13.663158</td>\n",
       "      <td>...</td>\n",
       "      <td>10.7</td>\n",
       "      <td>1.0</td>\n",
       "      <td>7.9</td>\n",
       "      <td>16.9</td>\n",
       "      <td>1.0</td>\n",
       "      <td>8.0</td>\n",
       "      <td>17.1</td>\n",
       "      <td>39.0</td>\n",
       "      <td>50.5</td>\n",
       "      <td>59.2</td>\n",
       "    </tr>\n",
       "    <tr>\n",
       "      <th>...</th>\n",
       "      <td>...</td>\n",
       "      <td>...</td>\n",
       "      <td>...</td>\n",
       "      <td>...</td>\n",
       "      <td>...</td>\n",
       "      <td>...</td>\n",
       "      <td>...</td>\n",
       "      <td>...</td>\n",
       "      <td>...</td>\n",
       "      <td>...</td>\n",
       "      <td>...</td>\n",
       "      <td>...</td>\n",
       "      <td>...</td>\n",
       "      <td>...</td>\n",
       "      <td>...</td>\n",
       "      <td>...</td>\n",
       "      <td>...</td>\n",
       "      <td>...</td>\n",
       "      <td>...</td>\n",
       "      <td>...</td>\n",
       "      <td>...</td>\n",
       "    </tr>\n",
       "    <tr>\n",
       "      <th>63</th>\n",
       "      <td>150143993</td>\n",
       "      <td>2014-01-16</td>\n",
       "      <td>23809</td>\n",
       "      <td>1</td>\n",
       "      <td>1.020833</td>\n",
       "      <td>0.943958</td>\n",
       "      <td>0.010000</td>\n",
       "      <td>9.927083</td>\n",
       "      <td>164.218750</td>\n",
       "      <td>71.000000</td>\n",
       "      <td>...</td>\n",
       "      <td>9.2</td>\n",
       "      <td>3.5</td>\n",
       "      <td>7.5</td>\n",
       "      <td>11.1</td>\n",
       "      <td>3.5</td>\n",
       "      <td>7.5</td>\n",
       "      <td>11.1</td>\n",
       "      <td>68.5</td>\n",
       "      <td>70.2</td>\n",
       "      <td>71.6</td>\n",
       "    </tr>\n",
       "    <tr>\n",
       "      <th>64</th>\n",
       "      <td>150143993</td>\n",
       "      <td>2014-01-16</td>\n",
       "      <td>86833</td>\n",
       "      <td>1</td>\n",
       "      <td>5.750000</td>\n",
       "      <td>1.289375</td>\n",
       "      <td>0.010000</td>\n",
       "      <td>2.625000</td>\n",
       "      <td>311.916667</td>\n",
       "      <td>15.927083</td>\n",
       "      <td>...</td>\n",
       "      <td>9.2</td>\n",
       "      <td>3.5</td>\n",
       "      <td>7.5</td>\n",
       "      <td>11.1</td>\n",
       "      <td>3.5</td>\n",
       "      <td>7.5</td>\n",
       "      <td>11.1</td>\n",
       "      <td>68.5</td>\n",
       "      <td>70.2</td>\n",
       "      <td>71.6</td>\n",
       "    </tr>\n",
       "    <tr>\n",
       "      <th>65</th>\n",
       "      <td>150143993</td>\n",
       "      <td>2014-01-16</td>\n",
       "      <td>115796</td>\n",
       "      <td>1</td>\n",
       "      <td>3.204545</td>\n",
       "      <td>3.170455</td>\n",
       "      <td>0.035909</td>\n",
       "      <td>70.488636</td>\n",
       "      <td>295.420455</td>\n",
       "      <td>122.954546</td>\n",
       "      <td>...</td>\n",
       "      <td>9.2</td>\n",
       "      <td>3.5</td>\n",
       "      <td>7.5</td>\n",
       "      <td>11.1</td>\n",
       "      <td>3.5</td>\n",
       "      <td>7.5</td>\n",
       "      <td>11.1</td>\n",
       "      <td>68.5</td>\n",
       "      <td>70.2</td>\n",
       "      <td>71.6</td>\n",
       "    </tr>\n",
       "    <tr>\n",
       "      <th>66</th>\n",
       "      <td>150143993</td>\n",
       "      <td>2014-01-16</td>\n",
       "      <td>132129</td>\n",
       "      <td>1</td>\n",
       "      <td>1.697917</td>\n",
       "      <td>1.670313</td>\n",
       "      <td>0.124896</td>\n",
       "      <td>0.083333</td>\n",
       "      <td>304.937500</td>\n",
       "      <td>5.552083</td>\n",
       "      <td>...</td>\n",
       "      <td>9.2</td>\n",
       "      <td>3.5</td>\n",
       "      <td>7.5</td>\n",
       "      <td>11.1</td>\n",
       "      <td>3.5</td>\n",
       "      <td>7.5</td>\n",
       "      <td>11.1</td>\n",
       "      <td>68.5</td>\n",
       "      <td>70.2</td>\n",
       "      <td>71.6</td>\n",
       "    </tr>\n",
       "    <tr>\n",
       "      <th>67</th>\n",
       "      <td>150143993</td>\n",
       "      <td>2014-01-16</td>\n",
       "      <td>142744</td>\n",
       "      <td>1</td>\n",
       "      <td>6.270833</td>\n",
       "      <td>0.562500</td>\n",
       "      <td>0.010000</td>\n",
       "      <td>0.000000</td>\n",
       "      <td>254.406250</td>\n",
       "      <td>7.312500</td>\n",
       "      <td>...</td>\n",
       "      <td>9.2</td>\n",
       "      <td>3.5</td>\n",
       "      <td>7.5</td>\n",
       "      <td>11.1</td>\n",
       "      <td>3.5</td>\n",
       "      <td>7.5</td>\n",
       "      <td>11.1</td>\n",
       "      <td>68.5</td>\n",
       "      <td>70.2</td>\n",
       "      <td>71.6</td>\n",
       "    </tr>\n",
       "  </tbody>\n",
       "</table>\n",
       "<p>210 rows × 74 columns</p>\n",
       "</div>"
      ],
      "text/plain": [
       "       ShipTo measures_measureDate  ControllerID  Result  Cell Fouling  \\\n",
       "0   150010683           2014-01-02         15490       0      0.000000   \n",
       "1   150010683           2014-01-02         21778       0      4.200000   \n",
       "2   150163434           2014-01-02        110015       0      2.625000   \n",
       "3   150163434           2014-01-02        110792       0     77.406250   \n",
       "4   150219235           2014-01-02         53679       0      0.000000   \n",
       "..        ...                  ...           ...     ...           ...   \n",
       "63  150143993           2014-01-16         23809       1      1.020833   \n",
       "64  150143993           2014-01-16         86833       1      5.750000   \n",
       "65  150143993           2014-01-16        115796       1      3.204545   \n",
       "66  150143993           2014-01-16        132129       1      1.697917   \n",
       "67  150143993           2014-01-16        142744       1      6.270833   \n",
       "\n",
       "       NCM 1     NCM 2  Nonox Bio Relay On Time         ORP  \\\n",
       "0   2.173437  0.017292                 0.000000  518.416667   \n",
       "1   0.100000  0.016471                 5.752941  385.282353   \n",
       "2   2.238229  0.110937                 0.000000  515.395833   \n",
       "3   2.742708  0.246250                 0.000000  294.625000   \n",
       "4   1.148526  0.130105                 1.473684  566.915789   \n",
       "..       ...       ...                      ...         ...   \n",
       "63  0.943958  0.010000                 9.927083  164.218750   \n",
       "64  1.289375  0.010000                 2.625000  311.916667   \n",
       "65  3.170455  0.035909                70.488636  295.420455   \n",
       "66  1.670313  0.124896                 0.083333  304.937500   \n",
       "67  0.562500  0.010000                 0.000000  254.406250   \n",
       "\n",
       "    Ox Bio Relay On Time  ...  windSpdMax  windSpd80mMin  windSpd80mAvg  \\\n",
       "0              95.760417  ...        27.2           26.2           31.2   \n",
       "1               0.000000  ...        27.2           26.2           31.2   \n",
       "2              23.593750  ...        14.9            7.3           13.1   \n",
       "3              33.020833  ...        14.9            7.3           13.1   \n",
       "4              13.663158  ...        10.7            1.0            7.9   \n",
       "..                   ...  ...         ...            ...            ...   \n",
       "63             71.000000  ...         9.2            3.5            7.5   \n",
       "64             15.927083  ...         9.2            3.5            7.5   \n",
       "65            122.954546  ...         9.2            3.5            7.5   \n",
       "66              5.552083  ...         9.2            3.5            7.5   \n",
       "67              7.312500  ...         9.2            3.5            7.5   \n",
       "\n",
       "    windSpd80mMax  windSpd100mMin windSpd100mAvg windSpd100mMax  wetBulbMin  \\\n",
       "0            38.5            27.3           32.7           40.3        37.1   \n",
       "1            38.5            27.3           32.7           40.3        37.1   \n",
       "2            19.4             7.4           13.3           19.7        49.6   \n",
       "3            19.4             7.4           13.3           19.7        49.6   \n",
       "4            16.9             1.0            8.0           17.1        39.0   \n",
       "..            ...             ...            ...            ...         ...   \n",
       "63           11.1             3.5            7.5           11.1        68.5   \n",
       "64           11.1             3.5            7.5           11.1        68.5   \n",
       "65           11.1             3.5            7.5           11.1        68.5   \n",
       "66           11.1             3.5            7.5           11.1        68.5   \n",
       "67           11.1             3.5            7.5           11.1        68.5   \n",
       "\n",
       "    wetBulbAvg  wetBulbMax  \n",
       "0         40.6        44.1  \n",
       "1         40.6        44.1  \n",
       "2         54.7        59.8  \n",
       "3         54.7        59.8  \n",
       "4         50.5        59.2  \n",
       "..         ...         ...  \n",
       "63        70.2        71.6  \n",
       "64        70.2        71.6  \n",
       "65        70.2        71.6  \n",
       "66        70.2        71.6  \n",
       "67        70.2        71.6  \n",
       "\n",
       "[210 rows x 74 columns]"
      ]
     },
     "execution_count": 66,
     "metadata": {},
     "output_type": "execute_result"
    }
   ],
   "source": [
    "df_par.drop(['Conductivity'],axis=1)"
   ]
  },
  {
   "cell_type": "code",
   "execution_count": 71,
   "id": "43b74ac7",
   "metadata": {},
   "outputs": [
    {
     "data": {
      "text/html": [
       "<div>\n",
       "<style scoped>\n",
       "    .dataframe tbody tr th:only-of-type {\n",
       "        vertical-align: middle;\n",
       "    }\n",
       "\n",
       "    .dataframe tbody tr th {\n",
       "        vertical-align: top;\n",
       "    }\n",
       "\n",
       "    .dataframe thead th {\n",
       "        text-align: right;\n",
       "    }\n",
       "</style>\n",
       "<table border=\"1\" class=\"dataframe\">\n",
       "  <thead>\n",
       "    <tr style=\"text-align: right;\">\n",
       "      <th></th>\n",
       "      <th>ShipTo</th>\n",
       "      <th>measures_measureDate</th>\n",
       "      <th>ControllerID</th>\n",
       "      <th>Result</th>\n",
       "      <th>Cell Fouling</th>\n",
       "      <th>Conductivity</th>\n",
       "      <th>NCM 1</th>\n",
       "      <th>NCM 2</th>\n",
       "      <th>Nonox Bio Relay On Time</th>\n",
       "      <th>ORP</th>\n",
       "      <th>...</th>\n",
       "      <th>windSpdMax</th>\n",
       "      <th>windSpd80mMin</th>\n",
       "      <th>windSpd80mAvg</th>\n",
       "      <th>windSpd80mMax</th>\n",
       "      <th>windSpd100mMin</th>\n",
       "      <th>windSpd100mAvg</th>\n",
       "      <th>windSpd100mMax</th>\n",
       "      <th>wetBulbMin</th>\n",
       "      <th>wetBulbAvg</th>\n",
       "      <th>wetBulbMax</th>\n",
       "    </tr>\n",
       "  </thead>\n",
       "  <tbody>\n",
       "    <tr>\n",
       "      <th>1</th>\n",
       "      <td>150010683</td>\n",
       "      <td>2014-01-02</td>\n",
       "      <td>21778</td>\n",
       "      <td>0</td>\n",
       "      <td>4.200000</td>\n",
       "      <td>1160.834706</td>\n",
       "      <td>0.100000</td>\n",
       "      <td>0.016471</td>\n",
       "      <td>5.752941</td>\n",
       "      <td>385.282353</td>\n",
       "      <td>...</td>\n",
       "      <td>27.2</td>\n",
       "      <td>26.2</td>\n",
       "      <td>31.2</td>\n",
       "      <td>38.5</td>\n",
       "      <td>27.3</td>\n",
       "      <td>32.7</td>\n",
       "      <td>40.3</td>\n",
       "      <td>37.1</td>\n",
       "      <td>40.6</td>\n",
       "      <td>44.1</td>\n",
       "    </tr>\n",
       "    <tr>\n",
       "      <th>2</th>\n",
       "      <td>150163434</td>\n",
       "      <td>2014-01-02</td>\n",
       "      <td>110015</td>\n",
       "      <td>0</td>\n",
       "      <td>2.625000</td>\n",
       "      <td>2554.996042</td>\n",
       "      <td>2.238229</td>\n",
       "      <td>0.110937</td>\n",
       "      <td>0.000000</td>\n",
       "      <td>515.395833</td>\n",
       "      <td>...</td>\n",
       "      <td>14.9</td>\n",
       "      <td>7.3</td>\n",
       "      <td>13.1</td>\n",
       "      <td>19.4</td>\n",
       "      <td>7.4</td>\n",
       "      <td>13.3</td>\n",
       "      <td>19.7</td>\n",
       "      <td>49.6</td>\n",
       "      <td>54.7</td>\n",
       "      <td>59.8</td>\n",
       "    </tr>\n",
       "    <tr>\n",
       "      <th>3</th>\n",
       "      <td>150163434</td>\n",
       "      <td>2014-01-02</td>\n",
       "      <td>110792</td>\n",
       "      <td>0</td>\n",
       "      <td>77.406250</td>\n",
       "      <td>151.083333</td>\n",
       "      <td>2.742708</td>\n",
       "      <td>0.246250</td>\n",
       "      <td>0.000000</td>\n",
       "      <td>294.625000</td>\n",
       "      <td>...</td>\n",
       "      <td>14.9</td>\n",
       "      <td>7.3</td>\n",
       "      <td>13.1</td>\n",
       "      <td>19.4</td>\n",
       "      <td>7.4</td>\n",
       "      <td>13.3</td>\n",
       "      <td>19.7</td>\n",
       "      <td>49.6</td>\n",
       "      <td>54.7</td>\n",
       "      <td>59.8</td>\n",
       "    </tr>\n",
       "    <tr>\n",
       "      <th>4</th>\n",
       "      <td>150219235</td>\n",
       "      <td>2014-01-02</td>\n",
       "      <td>53679</td>\n",
       "      <td>0</td>\n",
       "      <td>0.000000</td>\n",
       "      <td>1580.237158</td>\n",
       "      <td>1.148526</td>\n",
       "      <td>0.130105</td>\n",
       "      <td>1.473684</td>\n",
       "      <td>566.915789</td>\n",
       "      <td>...</td>\n",
       "      <td>10.7</td>\n",
       "      <td>1.0</td>\n",
       "      <td>7.9</td>\n",
       "      <td>16.9</td>\n",
       "      <td>1.0</td>\n",
       "      <td>8.0</td>\n",
       "      <td>17.1</td>\n",
       "      <td>39.0</td>\n",
       "      <td>50.5</td>\n",
       "      <td>59.2</td>\n",
       "    </tr>\n",
       "    <tr>\n",
       "      <th>5</th>\n",
       "      <td>150179409</td>\n",
       "      <td>2014-01-05</td>\n",
       "      <td>20330</td>\n",
       "      <td>0</td>\n",
       "      <td>18.000000</td>\n",
       "      <td>1036.994271</td>\n",
       "      <td>0.173437</td>\n",
       "      <td>0.010000</td>\n",
       "      <td>0.000000</td>\n",
       "      <td>702.125000</td>\n",
       "      <td>...</td>\n",
       "      <td>9.2</td>\n",
       "      <td>2.8</td>\n",
       "      <td>6.7</td>\n",
       "      <td>13.9</td>\n",
       "      <td>2.9</td>\n",
       "      <td>7.0</td>\n",
       "      <td>14.6</td>\n",
       "      <td>48.9</td>\n",
       "      <td>51.6</td>\n",
       "      <td>55.2</td>\n",
       "    </tr>\n",
       "    <tr>\n",
       "      <th>...</th>\n",
       "      <td>...</td>\n",
       "      <td>...</td>\n",
       "      <td>...</td>\n",
       "      <td>...</td>\n",
       "      <td>...</td>\n",
       "      <td>...</td>\n",
       "      <td>...</td>\n",
       "      <td>...</td>\n",
       "      <td>...</td>\n",
       "      <td>...</td>\n",
       "      <td>...</td>\n",
       "      <td>...</td>\n",
       "      <td>...</td>\n",
       "      <td>...</td>\n",
       "      <td>...</td>\n",
       "      <td>...</td>\n",
       "      <td>...</td>\n",
       "      <td>...</td>\n",
       "      <td>...</td>\n",
       "      <td>...</td>\n",
       "      <td>...</td>\n",
       "    </tr>\n",
       "    <tr>\n",
       "      <th>63</th>\n",
       "      <td>150143993</td>\n",
       "      <td>2014-01-16</td>\n",
       "      <td>23809</td>\n",
       "      <td>1</td>\n",
       "      <td>1.020833</td>\n",
       "      <td>1197.916354</td>\n",
       "      <td>0.943958</td>\n",
       "      <td>0.010000</td>\n",
       "      <td>9.927083</td>\n",
       "      <td>164.218750</td>\n",
       "      <td>...</td>\n",
       "      <td>9.2</td>\n",
       "      <td>3.5</td>\n",
       "      <td>7.5</td>\n",
       "      <td>11.1</td>\n",
       "      <td>3.5</td>\n",
       "      <td>7.5</td>\n",
       "      <td>11.1</td>\n",
       "      <td>68.5</td>\n",
       "      <td>70.2</td>\n",
       "      <td>71.6</td>\n",
       "    </tr>\n",
       "    <tr>\n",
       "      <th>64</th>\n",
       "      <td>150143993</td>\n",
       "      <td>2014-01-16</td>\n",
       "      <td>86833</td>\n",
       "      <td>1</td>\n",
       "      <td>5.750000</td>\n",
       "      <td>1191.117135</td>\n",
       "      <td>1.289375</td>\n",
       "      <td>0.010000</td>\n",
       "      <td>2.625000</td>\n",
       "      <td>311.916667</td>\n",
       "      <td>...</td>\n",
       "      <td>9.2</td>\n",
       "      <td>3.5</td>\n",
       "      <td>7.5</td>\n",
       "      <td>11.1</td>\n",
       "      <td>3.5</td>\n",
       "      <td>7.5</td>\n",
       "      <td>11.1</td>\n",
       "      <td>68.5</td>\n",
       "      <td>70.2</td>\n",
       "      <td>71.6</td>\n",
       "    </tr>\n",
       "    <tr>\n",
       "      <th>65</th>\n",
       "      <td>150143993</td>\n",
       "      <td>2014-01-16</td>\n",
       "      <td>115796</td>\n",
       "      <td>1</td>\n",
       "      <td>3.204545</td>\n",
       "      <td>3018.831705</td>\n",
       "      <td>3.170455</td>\n",
       "      <td>0.035909</td>\n",
       "      <td>70.488636</td>\n",
       "      <td>295.420455</td>\n",
       "      <td>...</td>\n",
       "      <td>9.2</td>\n",
       "      <td>3.5</td>\n",
       "      <td>7.5</td>\n",
       "      <td>11.1</td>\n",
       "      <td>3.5</td>\n",
       "      <td>7.5</td>\n",
       "      <td>11.1</td>\n",
       "      <td>68.5</td>\n",
       "      <td>70.2</td>\n",
       "      <td>71.6</td>\n",
       "    </tr>\n",
       "    <tr>\n",
       "      <th>66</th>\n",
       "      <td>150143993</td>\n",
       "      <td>2014-01-16</td>\n",
       "      <td>132129</td>\n",
       "      <td>1</td>\n",
       "      <td>1.697917</td>\n",
       "      <td>1289.292917</td>\n",
       "      <td>1.670313</td>\n",
       "      <td>0.124896</td>\n",
       "      <td>0.083333</td>\n",
       "      <td>304.937500</td>\n",
       "      <td>...</td>\n",
       "      <td>9.2</td>\n",
       "      <td>3.5</td>\n",
       "      <td>7.5</td>\n",
       "      <td>11.1</td>\n",
       "      <td>3.5</td>\n",
       "      <td>7.5</td>\n",
       "      <td>11.1</td>\n",
       "      <td>68.5</td>\n",
       "      <td>70.2</td>\n",
       "      <td>71.6</td>\n",
       "    </tr>\n",
       "    <tr>\n",
       "      <th>67</th>\n",
       "      <td>150143993</td>\n",
       "      <td>2014-01-16</td>\n",
       "      <td>142744</td>\n",
       "      <td>1</td>\n",
       "      <td>6.270833</td>\n",
       "      <td>1494.662292</td>\n",
       "      <td>0.562500</td>\n",
       "      <td>0.010000</td>\n",
       "      <td>0.000000</td>\n",
       "      <td>254.406250</td>\n",
       "      <td>...</td>\n",
       "      <td>9.2</td>\n",
       "      <td>3.5</td>\n",
       "      <td>7.5</td>\n",
       "      <td>11.1</td>\n",
       "      <td>3.5</td>\n",
       "      <td>7.5</td>\n",
       "      <td>11.1</td>\n",
       "      <td>68.5</td>\n",
       "      <td>70.2</td>\n",
       "      <td>71.6</td>\n",
       "    </tr>\n",
       "  </tbody>\n",
       "</table>\n",
       "<p>209 rows × 75 columns</p>\n",
       "</div>"
      ],
      "text/plain": [
       "       ShipTo measures_measureDate  ControllerID  Result  Cell Fouling  \\\n",
       "1   150010683           2014-01-02         21778       0      4.200000   \n",
       "2   150163434           2014-01-02        110015       0      2.625000   \n",
       "3   150163434           2014-01-02        110792       0     77.406250   \n",
       "4   150219235           2014-01-02         53679       0      0.000000   \n",
       "5   150179409           2014-01-05         20330       0     18.000000   \n",
       "..        ...                  ...           ...     ...           ...   \n",
       "63  150143993           2014-01-16         23809       1      1.020833   \n",
       "64  150143993           2014-01-16         86833       1      5.750000   \n",
       "65  150143993           2014-01-16        115796       1      3.204545   \n",
       "66  150143993           2014-01-16        132129       1      1.697917   \n",
       "67  150143993           2014-01-16        142744       1      6.270833   \n",
       "\n",
       "    Conductivity     NCM 1     NCM 2  Nonox Bio Relay On Time         ORP  \\\n",
       "1    1160.834706  0.100000  0.016471                 5.752941  385.282353   \n",
       "2    2554.996042  2.238229  0.110937                 0.000000  515.395833   \n",
       "3     151.083333  2.742708  0.246250                 0.000000  294.625000   \n",
       "4    1580.237158  1.148526  0.130105                 1.473684  566.915789   \n",
       "5    1036.994271  0.173437  0.010000                 0.000000  702.125000   \n",
       "..           ...       ...       ...                      ...         ...   \n",
       "63   1197.916354  0.943958  0.010000                 9.927083  164.218750   \n",
       "64   1191.117135  1.289375  0.010000                 2.625000  311.916667   \n",
       "65   3018.831705  3.170455  0.035909                70.488636  295.420455   \n",
       "66   1289.292917  1.670313  0.124896                 0.083333  304.937500   \n",
       "67   1494.662292  0.562500  0.010000                 0.000000  254.406250   \n",
       "\n",
       "    ...  windSpdMax  windSpd80mMin  windSpd80mAvg  windSpd80mMax  \\\n",
       "1   ...        27.2           26.2           31.2           38.5   \n",
       "2   ...        14.9            7.3           13.1           19.4   \n",
       "3   ...        14.9            7.3           13.1           19.4   \n",
       "4   ...        10.7            1.0            7.9           16.9   \n",
       "5   ...         9.2            2.8            6.7           13.9   \n",
       "..  ...         ...            ...            ...            ...   \n",
       "63  ...         9.2            3.5            7.5           11.1   \n",
       "64  ...         9.2            3.5            7.5           11.1   \n",
       "65  ...         9.2            3.5            7.5           11.1   \n",
       "66  ...         9.2            3.5            7.5           11.1   \n",
       "67  ...         9.2            3.5            7.5           11.1   \n",
       "\n",
       "    windSpd100mMin  windSpd100mAvg windSpd100mMax wetBulbMin  wetBulbAvg  \\\n",
       "1             27.3            32.7           40.3       37.1        40.6   \n",
       "2              7.4            13.3           19.7       49.6        54.7   \n",
       "3              7.4            13.3           19.7       49.6        54.7   \n",
       "4              1.0             8.0           17.1       39.0        50.5   \n",
       "5              2.9             7.0           14.6       48.9        51.6   \n",
       "..             ...             ...            ...        ...         ...   \n",
       "63             3.5             7.5           11.1       68.5        70.2   \n",
       "64             3.5             7.5           11.1       68.5        70.2   \n",
       "65             3.5             7.5           11.1       68.5        70.2   \n",
       "66             3.5             7.5           11.1       68.5        70.2   \n",
       "67             3.5             7.5           11.1       68.5        70.2   \n",
       "\n",
       "    wetBulbMax  \n",
       "1         44.1  \n",
       "2         59.8  \n",
       "3         59.8  \n",
       "4         59.2  \n",
       "5         55.2  \n",
       "..         ...  \n",
       "63        71.6  \n",
       "64        71.6  \n",
       "65        71.6  \n",
       "66        71.6  \n",
       "67        71.6  \n",
       "\n",
       "[209 rows x 75 columns]"
      ]
     },
     "execution_count": 71,
     "metadata": {},
     "output_type": "execute_result"
    }
   ],
   "source": [
    "df_par.drop([0])"
   ]
  },
  {
   "cell_type": "code",
   "execution_count": 72,
   "id": "a896d750",
   "metadata": {},
   "outputs": [
    {
     "data": {
      "text/plain": [
       "27.5    21\n",
       "16.9     9\n",
       "14.9     8\n",
       "6.2      7\n",
       "9.2      7\n",
       "        ..\n",
       "11.4     1\n",
       "19.8     1\n",
       "11.5     1\n",
       "13.7     1\n",
       "7.7      1\n",
       "Name: windSpdMax, Length: 82, dtype: int64"
      ]
     },
     "execution_count": 72,
     "metadata": {},
     "output_type": "execute_result"
    }
   ],
   "source": [
    "df_par['windSpdMax'].value_counts()"
   ]
  },
  {
   "cell_type": "code",
   "execution_count": 73,
   "id": "58ea8d7f",
   "metadata": {},
   "outputs": [
    {
     "data": {
      "text/html": [
       "<div>\n",
       "<style scoped>\n",
       "    .dataframe tbody tr th:only-of-type {\n",
       "        vertical-align: middle;\n",
       "    }\n",
       "\n",
       "    .dataframe tbody tr th {\n",
       "        vertical-align: top;\n",
       "    }\n",
       "\n",
       "    .dataframe thead th {\n",
       "        text-align: right;\n",
       "    }\n",
       "</style>\n",
       "<table border=\"1\" class=\"dataframe\">\n",
       "  <thead>\n",
       "    <tr style=\"text-align: right;\">\n",
       "      <th></th>\n",
       "      <th>count</th>\n",
       "      <th>mean</th>\n",
       "      <th>std</th>\n",
       "      <th>min</th>\n",
       "      <th>25%</th>\n",
       "      <th>50%</th>\n",
       "      <th>75%</th>\n",
       "      <th>max</th>\n",
       "    </tr>\n",
       "  </thead>\n",
       "  <tbody>\n",
       "    <tr>\n",
       "      <th>RowNumber</th>\n",
       "      <td>10000.0</td>\n",
       "      <td>5.000500e+03</td>\n",
       "      <td>2886.895680</td>\n",
       "      <td>1.00</td>\n",
       "      <td>2500.75</td>\n",
       "      <td>5.000500e+03</td>\n",
       "      <td>7.500250e+03</td>\n",
       "      <td>10000.00</td>\n",
       "    </tr>\n",
       "    <tr>\n",
       "      <th>CustomerId</th>\n",
       "      <td>10000.0</td>\n",
       "      <td>1.569094e+07</td>\n",
       "      <td>71936.186123</td>\n",
       "      <td>15565701.00</td>\n",
       "      <td>15628528.25</td>\n",
       "      <td>1.569074e+07</td>\n",
       "      <td>1.575323e+07</td>\n",
       "      <td>15815690.00</td>\n",
       "    </tr>\n",
       "    <tr>\n",
       "      <th>CreditScore</th>\n",
       "      <td>10000.0</td>\n",
       "      <td>6.505288e+02</td>\n",
       "      <td>96.653299</td>\n",
       "      <td>350.00</td>\n",
       "      <td>584.00</td>\n",
       "      <td>6.520000e+02</td>\n",
       "      <td>7.180000e+02</td>\n",
       "      <td>850.00</td>\n",
       "    </tr>\n",
       "    <tr>\n",
       "      <th>Age</th>\n",
       "      <td>10000.0</td>\n",
       "      <td>3.892180e+01</td>\n",
       "      <td>10.487806</td>\n",
       "      <td>18.00</td>\n",
       "      <td>32.00</td>\n",
       "      <td>3.700000e+01</td>\n",
       "      <td>4.400000e+01</td>\n",
       "      <td>92.00</td>\n",
       "    </tr>\n",
       "    <tr>\n",
       "      <th>Tenure</th>\n",
       "      <td>10000.0</td>\n",
       "      <td>5.012800e+00</td>\n",
       "      <td>2.892174</td>\n",
       "      <td>0.00</td>\n",
       "      <td>3.00</td>\n",
       "      <td>5.000000e+00</td>\n",
       "      <td>7.000000e+00</td>\n",
       "      <td>10.00</td>\n",
       "    </tr>\n",
       "    <tr>\n",
       "      <th>Balance</th>\n",
       "      <td>10000.0</td>\n",
       "      <td>7.648589e+04</td>\n",
       "      <td>62397.405202</td>\n",
       "      <td>0.00</td>\n",
       "      <td>0.00</td>\n",
       "      <td>9.719854e+04</td>\n",
       "      <td>1.276442e+05</td>\n",
       "      <td>250898.09</td>\n",
       "    </tr>\n",
       "    <tr>\n",
       "      <th>NumOfProducts</th>\n",
       "      <td>10000.0</td>\n",
       "      <td>1.530200e+00</td>\n",
       "      <td>0.581654</td>\n",
       "      <td>1.00</td>\n",
       "      <td>1.00</td>\n",
       "      <td>1.000000e+00</td>\n",
       "      <td>2.000000e+00</td>\n",
       "      <td>4.00</td>\n",
       "    </tr>\n",
       "    <tr>\n",
       "      <th>HasCrCard</th>\n",
       "      <td>10000.0</td>\n",
       "      <td>7.055000e-01</td>\n",
       "      <td>0.455840</td>\n",
       "      <td>0.00</td>\n",
       "      <td>0.00</td>\n",
       "      <td>1.000000e+00</td>\n",
       "      <td>1.000000e+00</td>\n",
       "      <td>1.00</td>\n",
       "    </tr>\n",
       "    <tr>\n",
       "      <th>IsActiveMember</th>\n",
       "      <td>10000.0</td>\n",
       "      <td>5.151000e-01</td>\n",
       "      <td>0.499797</td>\n",
       "      <td>0.00</td>\n",
       "      <td>0.00</td>\n",
       "      <td>1.000000e+00</td>\n",
       "      <td>1.000000e+00</td>\n",
       "      <td>1.00</td>\n",
       "    </tr>\n",
       "    <tr>\n",
       "      <th>EstimatedSalary</th>\n",
       "      <td>10000.0</td>\n",
       "      <td>1.000902e+05</td>\n",
       "      <td>57510.492818</td>\n",
       "      <td>11.58</td>\n",
       "      <td>51002.11</td>\n",
       "      <td>1.001939e+05</td>\n",
       "      <td>1.493882e+05</td>\n",
       "      <td>199992.48</td>\n",
       "    </tr>\n",
       "    <tr>\n",
       "      <th>Exited</th>\n",
       "      <td>10000.0</td>\n",
       "      <td>2.037000e-01</td>\n",
       "      <td>0.402769</td>\n",
       "      <td>0.00</td>\n",
       "      <td>0.00</td>\n",
       "      <td>0.000000e+00</td>\n",
       "      <td>0.000000e+00</td>\n",
       "      <td>1.00</td>\n",
       "    </tr>\n",
       "  </tbody>\n",
       "</table>\n",
       "</div>"
      ],
      "text/plain": [
       "                   count          mean           std          min  \\\n",
       "RowNumber        10000.0  5.000500e+03   2886.895680         1.00   \n",
       "CustomerId       10000.0  1.569094e+07  71936.186123  15565701.00   \n",
       "CreditScore      10000.0  6.505288e+02     96.653299       350.00   \n",
       "Age              10000.0  3.892180e+01     10.487806        18.00   \n",
       "Tenure           10000.0  5.012800e+00      2.892174         0.00   \n",
       "Balance          10000.0  7.648589e+04  62397.405202         0.00   \n",
       "NumOfProducts    10000.0  1.530200e+00      0.581654         1.00   \n",
       "HasCrCard        10000.0  7.055000e-01      0.455840         0.00   \n",
       "IsActiveMember   10000.0  5.151000e-01      0.499797         0.00   \n",
       "EstimatedSalary  10000.0  1.000902e+05  57510.492818        11.58   \n",
       "Exited           10000.0  2.037000e-01      0.402769         0.00   \n",
       "\n",
       "                         25%           50%           75%          max  \n",
       "RowNumber            2500.75  5.000500e+03  7.500250e+03     10000.00  \n",
       "CustomerId       15628528.25  1.569074e+07  1.575323e+07  15815690.00  \n",
       "CreditScore           584.00  6.520000e+02  7.180000e+02       850.00  \n",
       "Age                    32.00  3.700000e+01  4.400000e+01        92.00  \n",
       "Tenure                  3.00  5.000000e+00  7.000000e+00        10.00  \n",
       "Balance                 0.00  9.719854e+04  1.276442e+05    250898.09  \n",
       "NumOfProducts           1.00  1.000000e+00  2.000000e+00         4.00  \n",
       "HasCrCard               0.00  1.000000e+00  1.000000e+00         1.00  \n",
       "IsActiveMember          0.00  1.000000e+00  1.000000e+00         1.00  \n",
       "EstimatedSalary     51002.11  1.001939e+05  1.493882e+05    199992.48  \n",
       "Exited                  0.00  0.000000e+00  0.000000e+00         1.00  "
      ]
     },
     "execution_count": 73,
     "metadata": {},
     "output_type": "execute_result"
    }
   ],
   "source": [
    "df.describe().T"
   ]
  },
  {
   "cell_type": "code",
   "execution_count": 74,
   "id": "e4e1666b",
   "metadata": {},
   "outputs": [
    {
     "data": {
      "text/html": [
       "<div>\n",
       "<style scoped>\n",
       "    .dataframe tbody tr th:only-of-type {\n",
       "        vertical-align: middle;\n",
       "    }\n",
       "\n",
       "    .dataframe tbody tr th {\n",
       "        vertical-align: top;\n",
       "    }\n",
       "\n",
       "    .dataframe thead th {\n",
       "        text-align: right;\n",
       "    }\n",
       "</style>\n",
       "<table border=\"1\" class=\"dataframe\">\n",
       "  <thead>\n",
       "    <tr style=\"text-align: right;\">\n",
       "      <th></th>\n",
       "      <th>CreditScore</th>\n",
       "      <th>Gender</th>\n",
       "    </tr>\n",
       "  </thead>\n",
       "  <tbody>\n",
       "    <tr>\n",
       "      <th>200</th>\n",
       "      <td>850</td>\n",
       "      <td>Male</td>\n",
       "    </tr>\n",
       "    <tr>\n",
       "      <th>201</th>\n",
       "      <td>759</td>\n",
       "      <td>Male</td>\n",
       "    </tr>\n",
       "  </tbody>\n",
       "</table>\n",
       "</div>"
      ],
      "text/plain": [
       "     CreditScore Gender\n",
       "200          850   Male\n",
       "201          759   Male"
      ]
     },
     "execution_count": 74,
     "metadata": {},
     "output_type": "execute_result"
    }
   ],
   "source": [
    "df.iloc[200:202,3:7:2]"
   ]
  },
  {
   "cell_type": "code",
   "execution_count": 78,
   "id": "c84fb23d",
   "metadata": {},
   "outputs": [
    {
     "data": {
      "text/plain": [
       "Index(['RowNumber', 'CustomerId', 'Surname', 'CreditScore', 'Geography',\n",
       "       'Gender', 'Age', 'Tenure', 'Balance', 'NumOfProducts', 'HasCrCard',\n",
       "       'IsActiveMember', 'EstimatedSalary', 'Exited'],\n",
       "      dtype='object')"
      ]
     },
     "execution_count": 78,
     "metadata": {},
     "output_type": "execute_result"
    }
   ],
   "source": [
    "df.columns"
   ]
  },
  {
   "cell_type": "code",
   "execution_count": 88,
   "id": "8b1f84e6",
   "metadata": {},
   "outputs": [
    {
     "data": {
      "text/html": [
       "<div>\n",
       "<style scoped>\n",
       "    .dataframe tbody tr th:only-of-type {\n",
       "        vertical-align: middle;\n",
       "    }\n",
       "\n",
       "    .dataframe tbody tr th {\n",
       "        vertical-align: top;\n",
       "    }\n",
       "\n",
       "    .dataframe thead th {\n",
       "        text-align: right;\n",
       "    }\n",
       "</style>\n",
       "<table border=\"1\" class=\"dataframe\">\n",
       "  <thead>\n",
       "    <tr style=\"text-align: right;\">\n",
       "      <th></th>\n",
       "      <th>CreditScore</th>\n",
       "      <th>Gender</th>\n",
       "    </tr>\n",
       "  </thead>\n",
       "  <tbody>\n",
       "    <tr>\n",
       "      <th>200</th>\n",
       "      <td>850</td>\n",
       "      <td>Male</td>\n",
       "    </tr>\n",
       "    <tr>\n",
       "      <th>201</th>\n",
       "      <td>759</td>\n",
       "      <td>Male</td>\n",
       "    </tr>\n",
       "    <tr>\n",
       "      <th>202</th>\n",
       "      <td>516</td>\n",
       "      <td>Male</td>\n",
       "    </tr>\n",
       "  </tbody>\n",
       "</table>\n",
       "</div>"
      ],
      "text/plain": [
       "     CreditScore Gender\n",
       "200          850   Male\n",
       "201          759   Male\n",
       "202          516   Male"
      ]
     },
     "execution_count": 88,
     "metadata": {},
     "output_type": "execute_result"
    }
   ],
   "source": [
    "df.loc[200:202,['CreditScore','Gender']]"
   ]
  },
  {
   "cell_type": "code",
   "execution_count": 94,
   "id": "0e590e85",
   "metadata": {},
   "outputs": [
    {
     "data": {
      "text/html": [
       "<div>\n",
       "<style scoped>\n",
       "    .dataframe tbody tr th:only-of-type {\n",
       "        vertical-align: middle;\n",
       "    }\n",
       "\n",
       "    .dataframe tbody tr th {\n",
       "        vertical-align: top;\n",
       "    }\n",
       "\n",
       "    .dataframe thead th {\n",
       "        text-align: right;\n",
       "    }\n",
       "</style>\n",
       "<table border=\"1\" class=\"dataframe\">\n",
       "  <thead>\n",
       "    <tr style=\"text-align: right;\">\n",
       "      <th></th>\n",
       "      <th>RowNumber</th>\n",
       "      <th>CustomerId</th>\n",
       "      <th>Surname</th>\n",
       "      <th>CreditScore</th>\n",
       "      <th>Geography</th>\n",
       "      <th>Gender</th>\n",
       "      <th>Age</th>\n",
       "      <th>Tenure</th>\n",
       "      <th>Balance</th>\n",
       "      <th>NumOfProducts</th>\n",
       "      <th>HasCrCard</th>\n",
       "      <th>IsActiveMember</th>\n",
       "      <th>EstimatedSalary</th>\n",
       "      <th>Exited</th>\n",
       "    </tr>\n",
       "  </thead>\n",
       "  <tbody>\n",
       "    <tr>\n",
       "      <th>16</th>\n",
       "      <td>17</td>\n",
       "      <td>15737452</td>\n",
       "      <td>Romeo</td>\n",
       "      <td>653</td>\n",
       "      <td>Germany</td>\n",
       "      <td>Male</td>\n",
       "      <td>58</td>\n",
       "      <td>1</td>\n",
       "      <td>132602.88</td>\n",
       "      <td>1</td>\n",
       "      <td>1</td>\n",
       "      <td>0</td>\n",
       "      <td>5097.67</td>\n",
       "      <td>1</td>\n",
       "    </tr>\n",
       "    <tr>\n",
       "      <th>41</th>\n",
       "      <td>42</td>\n",
       "      <td>15738148</td>\n",
       "      <td>Clarke</td>\n",
       "      <td>465</td>\n",
       "      <td>France</td>\n",
       "      <td>Female</td>\n",
       "      <td>51</td>\n",
       "      <td>8</td>\n",
       "      <td>122522.32</td>\n",
       "      <td>1</td>\n",
       "      <td>0</td>\n",
       "      <td>0</td>\n",
       "      <td>181297.65</td>\n",
       "      <td>1</td>\n",
       "    </tr>\n",
       "    <tr>\n",
       "      <th>42</th>\n",
       "      <td>43</td>\n",
       "      <td>15687946</td>\n",
       "      <td>Osborne</td>\n",
       "      <td>556</td>\n",
       "      <td>France</td>\n",
       "      <td>Female</td>\n",
       "      <td>61</td>\n",
       "      <td>2</td>\n",
       "      <td>117419.35</td>\n",
       "      <td>1</td>\n",
       "      <td>1</td>\n",
       "      <td>1</td>\n",
       "      <td>94153.83</td>\n",
       "      <td>0</td>\n",
       "    </tr>\n",
       "    <tr>\n",
       "      <th>44</th>\n",
       "      <td>45</td>\n",
       "      <td>15684171</td>\n",
       "      <td>Bianchi</td>\n",
       "      <td>660</td>\n",
       "      <td>Spain</td>\n",
       "      <td>Female</td>\n",
       "      <td>61</td>\n",
       "      <td>5</td>\n",
       "      <td>155931.11</td>\n",
       "      <td>1</td>\n",
       "      <td>1</td>\n",
       "      <td>1</td>\n",
       "      <td>158338.39</td>\n",
       "      <td>0</td>\n",
       "    </tr>\n",
       "    <tr>\n",
       "      <th>58</th>\n",
       "      <td>59</td>\n",
       "      <td>15623944</td>\n",
       "      <td>T'ien</td>\n",
       "      <td>511</td>\n",
       "      <td>Spain</td>\n",
       "      <td>Female</td>\n",
       "      <td>66</td>\n",
       "      <td>4</td>\n",
       "      <td>0.00</td>\n",
       "      <td>1</td>\n",
       "      <td>1</td>\n",
       "      <td>0</td>\n",
       "      <td>1643.11</td>\n",
       "      <td>1</td>\n",
       "    </tr>\n",
       "    <tr>\n",
       "      <th>...</th>\n",
       "      <td>...</td>\n",
       "      <td>...</td>\n",
       "      <td>...</td>\n",
       "      <td>...</td>\n",
       "      <td>...</td>\n",
       "      <td>...</td>\n",
       "      <td>...</td>\n",
       "      <td>...</td>\n",
       "      <td>...</td>\n",
       "      <td>...</td>\n",
       "      <td>...</td>\n",
       "      <td>...</td>\n",
       "      <td>...</td>\n",
       "      <td>...</td>\n",
       "    </tr>\n",
       "    <tr>\n",
       "      <th>9936</th>\n",
       "      <td>9937</td>\n",
       "      <td>15653037</td>\n",
       "      <td>Parks</td>\n",
       "      <td>609</td>\n",
       "      <td>France</td>\n",
       "      <td>Male</td>\n",
       "      <td>77</td>\n",
       "      <td>1</td>\n",
       "      <td>0.00</td>\n",
       "      <td>1</td>\n",
       "      <td>0</td>\n",
       "      <td>1</td>\n",
       "      <td>18708.76</td>\n",
       "      <td>0</td>\n",
       "    </tr>\n",
       "    <tr>\n",
       "      <th>9939</th>\n",
       "      <td>9940</td>\n",
       "      <td>15808971</td>\n",
       "      <td>Lajoie</td>\n",
       "      <td>693</td>\n",
       "      <td>Spain</td>\n",
       "      <td>Female</td>\n",
       "      <td>57</td>\n",
       "      <td>9</td>\n",
       "      <td>0.00</td>\n",
       "      <td>2</td>\n",
       "      <td>1</td>\n",
       "      <td>1</td>\n",
       "      <td>135502.77</td>\n",
       "      <td>0</td>\n",
       "    </tr>\n",
       "    <tr>\n",
       "      <th>9948</th>\n",
       "      <td>9949</td>\n",
       "      <td>15735078</td>\n",
       "      <td>Onwughara</td>\n",
       "      <td>724</td>\n",
       "      <td>Germany</td>\n",
       "      <td>Female</td>\n",
       "      <td>53</td>\n",
       "      <td>1</td>\n",
       "      <td>139687.66</td>\n",
       "      <td>2</td>\n",
       "      <td>1</td>\n",
       "      <td>1</td>\n",
       "      <td>12913.92</td>\n",
       "      <td>0</td>\n",
       "    </tr>\n",
       "    <tr>\n",
       "      <th>9979</th>\n",
       "      <td>9980</td>\n",
       "      <td>15692664</td>\n",
       "      <td>Diribe</td>\n",
       "      <td>677</td>\n",
       "      <td>France</td>\n",
       "      <td>Female</td>\n",
       "      <td>58</td>\n",
       "      <td>1</td>\n",
       "      <td>90022.85</td>\n",
       "      <td>1</td>\n",
       "      <td>0</td>\n",
       "      <td>1</td>\n",
       "      <td>2988.28</td>\n",
       "      <td>0</td>\n",
       "    </tr>\n",
       "    <tr>\n",
       "      <th>9991</th>\n",
       "      <td>9992</td>\n",
       "      <td>15769959</td>\n",
       "      <td>Ajuluchukwu</td>\n",
       "      <td>597</td>\n",
       "      <td>France</td>\n",
       "      <td>Female</td>\n",
       "      <td>53</td>\n",
       "      <td>4</td>\n",
       "      <td>88381.21</td>\n",
       "      <td>1</td>\n",
       "      <td>1</td>\n",
       "      <td>0</td>\n",
       "      <td>69384.71</td>\n",
       "      <td>1</td>\n",
       "    </tr>\n",
       "  </tbody>\n",
       "</table>\n",
       "<p>1261 rows × 14 columns</p>\n",
       "</div>"
      ],
      "text/plain": [
       "      RowNumber  CustomerId      Surname  CreditScore Geography  Gender  Age  \\\n",
       "16           17    15737452        Romeo          653   Germany    Male   58   \n",
       "41           42    15738148       Clarke          465    France  Female   51   \n",
       "42           43    15687946      Osborne          556    France  Female   61   \n",
       "44           45    15684171      Bianchi          660     Spain  Female   61   \n",
       "58           59    15623944        T'ien          511     Spain  Female   66   \n",
       "...         ...         ...          ...          ...       ...     ...  ...   \n",
       "9936       9937    15653037        Parks          609    France    Male   77   \n",
       "9939       9940    15808971       Lajoie          693     Spain  Female   57   \n",
       "9948       9949    15735078    Onwughara          724   Germany  Female   53   \n",
       "9979       9980    15692664       Diribe          677    France  Female   58   \n",
       "9991       9992    15769959  Ajuluchukwu          597    France  Female   53   \n",
       "\n",
       "      Tenure    Balance  NumOfProducts  HasCrCard  IsActiveMember  \\\n",
       "16         1  132602.88              1          1               0   \n",
       "41         8  122522.32              1          0               0   \n",
       "42         2  117419.35              1          1               1   \n",
       "44         5  155931.11              1          1               1   \n",
       "58         4       0.00              1          1               0   \n",
       "...      ...        ...            ...        ...             ...   \n",
       "9936       1       0.00              1          0               1   \n",
       "9939       9       0.00              2          1               1   \n",
       "9948       1  139687.66              2          1               1   \n",
       "9979       1   90022.85              1          0               1   \n",
       "9991       4   88381.21              1          1               0   \n",
       "\n",
       "      EstimatedSalary  Exited  \n",
       "16            5097.67       1  \n",
       "41          181297.65       1  \n",
       "42           94153.83       0  \n",
       "44          158338.39       0  \n",
       "58            1643.11       1  \n",
       "...               ...     ...  \n",
       "9936         18708.76       0  \n",
       "9939        135502.77       0  \n",
       "9948         12913.92       0  \n",
       "9979          2988.28       0  \n",
       "9991         69384.71       1  \n",
       "\n",
       "[1261 rows x 14 columns]"
      ]
     },
     "execution_count": 94,
     "metadata": {},
     "output_type": "execute_result"
    }
   ],
   "source": [
    "df[df['Age'] > 50]"
   ]
  },
  {
   "cell_type": "code",
   "execution_count": 98,
   "id": "2391cc65",
   "metadata": {},
   "outputs": [
    {
     "data": {
      "text/plain": [
       "6637"
      ]
     },
     "execution_count": 98,
     "metadata": {},
     "output_type": "execute_result"
    }
   ],
   "source": [
    "len(df[(df['Age'] > 30) & (df['Age'] < 50)])"
   ]
  },
  {
   "cell_type": "code",
   "execution_count": 99,
   "id": "b2bb822d",
   "metadata": {},
   "outputs": [
    {
     "data": {
      "text/plain": [
       "584.0"
      ]
     },
     "execution_count": 99,
     "metadata": {},
     "output_type": "execute_result"
    }
   ],
   "source": [
    "df['CreditScore'].quantile(0.25)"
   ]
  },
  {
   "cell_type": "code",
   "execution_count": 100,
   "id": "a134fdce",
   "metadata": {},
   "outputs": [
    {
     "data": {
      "text/plain": [
       "718.0"
      ]
     },
     "execution_count": 100,
     "metadata": {},
     "output_type": "execute_result"
    }
   ],
   "source": [
    "df['CreditScore'].quantile(0.75)"
   ]
  },
  {
   "cell_type": "code",
   "execution_count": 101,
   "id": "648442f5",
   "metadata": {},
   "outputs": [
    {
     "data": {
      "text/plain": [
       "652.0"
      ]
     },
     "execution_count": 101,
     "metadata": {},
     "output_type": "execute_result"
    }
   ],
   "source": [
    "df['CreditScore'].quantile(0.50)"
   ]
  },
  {
   "cell_type": "code",
   "execution_count": 102,
   "id": "72a7ab86",
   "metadata": {},
   "outputs": [
    {
     "data": {
      "text/html": [
       "<div>\n",
       "<style scoped>\n",
       "    .dataframe tbody tr th:only-of-type {\n",
       "        vertical-align: middle;\n",
       "    }\n",
       "\n",
       "    .dataframe tbody tr th {\n",
       "        vertical-align: top;\n",
       "    }\n",
       "\n",
       "    .dataframe thead th {\n",
       "        text-align: right;\n",
       "    }\n",
       "</style>\n",
       "<table border=\"1\" class=\"dataframe\">\n",
       "  <thead>\n",
       "    <tr style=\"text-align: right;\">\n",
       "      <th></th>\n",
       "      <th>Age</th>\n",
       "      <th>CreditScore</th>\n",
       "    </tr>\n",
       "  </thead>\n",
       "  <tbody>\n",
       "    <tr>\n",
       "      <th>Age</th>\n",
       "      <td>109.994084</td>\n",
       "      <td>-4.019150</td>\n",
       "    </tr>\n",
       "    <tr>\n",
       "      <th>CreditScore</th>\n",
       "      <td>-4.019150</td>\n",
       "      <td>9341.860157</td>\n",
       "    </tr>\n",
       "  </tbody>\n",
       "</table>\n",
       "</div>"
      ],
      "text/plain": [
       "                    Age  CreditScore\n",
       "Age          109.994084    -4.019150\n",
       "CreditScore   -4.019150  9341.860157"
      ]
     },
     "execution_count": 102,
     "metadata": {},
     "output_type": "execute_result"
    }
   ],
   "source": [
    "df[['Age','CreditScore']].cov()"
   ]
  },
  {
   "cell_type": "code",
   "execution_count": 103,
   "id": "0769f505",
   "metadata": {},
   "outputs": [
    {
     "data": {
      "text/html": [
       "<div>\n",
       "<style scoped>\n",
       "    .dataframe tbody tr th:only-of-type {\n",
       "        vertical-align: middle;\n",
       "    }\n",
       "\n",
       "    .dataframe tbody tr th {\n",
       "        vertical-align: top;\n",
       "    }\n",
       "\n",
       "    .dataframe thead th {\n",
       "        text-align: right;\n",
       "    }\n",
       "</style>\n",
       "<table border=\"1\" class=\"dataframe\">\n",
       "  <thead>\n",
       "    <tr style=\"text-align: right;\">\n",
       "      <th></th>\n",
       "      <th>Age</th>\n",
       "      <th>CreditScore</th>\n",
       "    </tr>\n",
       "  </thead>\n",
       "  <tbody>\n",
       "    <tr>\n",
       "      <th>Age</th>\n",
       "      <td>1.000000</td>\n",
       "      <td>-0.003965</td>\n",
       "    </tr>\n",
       "    <tr>\n",
       "      <th>CreditScore</th>\n",
       "      <td>-0.003965</td>\n",
       "      <td>1.000000</td>\n",
       "    </tr>\n",
       "  </tbody>\n",
       "</table>\n",
       "</div>"
      ],
      "text/plain": [
       "                  Age  CreditScore\n",
       "Age          1.000000    -0.003965\n",
       "CreditScore -0.003965     1.000000"
      ]
     },
     "execution_count": 103,
     "metadata": {},
     "output_type": "execute_result"
    }
   ],
   "source": [
    "df[['Age','CreditScore']].corr()"
   ]
  },
  {
   "cell_type": "code",
   "execution_count": 105,
   "id": "95269fa4",
   "metadata": {},
   "outputs": [
    {
     "data": {
      "text/plain": [
       "296"
      ]
     },
     "execution_count": 105,
     "metadata": {},
     "output_type": "execute_result"
    }
   ],
   "source": [
    "df[(df['Gender'] == 'Female') & (df['CreditScore'] < 500)].shape[0]"
   ]
  },
  {
   "cell_type": "code",
   "execution_count": null,
   "id": "ece190f8",
   "metadata": {},
   "outputs": [],
   "source": []
  }
 ],
 "metadata": {
  "kernelspec": {
   "display_name": "Python 3 (ipykernel)",
   "language": "python",
   "name": "python3"
  },
  "language_info": {
   "codemirror_mode": {
    "name": "ipython",
    "version": 3
   },
   "file_extension": ".py",
   "mimetype": "text/x-python",
   "name": "python",
   "nbconvert_exporter": "python",
   "pygments_lexer": "ipython3",
   "version": "3.9.13"
  }
 },
 "nbformat": 4,
 "nbformat_minor": 5
}
